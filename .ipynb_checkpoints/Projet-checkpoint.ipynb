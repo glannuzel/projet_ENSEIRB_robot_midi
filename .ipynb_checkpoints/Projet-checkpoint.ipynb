{
 "cells": [
  {
   "cell_type": "markdown",
   "metadata": {},
   "source": [
    "# Projet ia "
   ]
  },
  {
   "cell_type": "code",
   "execution_count": 1,
   "metadata": {},
   "outputs": [],
   "source": [
    "import numpy as np\n",
    "import matplotlib.pyplot as plt\n",
    "from mido import MidiFile, MidiTrack, Message\n",
    "from scipy import linalg\n",
    "from ipywidgets import *\n",
    "from IPython.display import *\n",
    "\n",
    "#Pour afficher les courbes dans le notebook\n",
    "%matplotlib inline"
   ]
  },
  {
   "cell_type": "code",
   "execution_count": 21,
   "metadata": {},
   "outputs": [],
   "source": [
    "noteon = []\n",
    "mid = MidiFile('midi-classique-flute/[Free-scores.com]_ali-choobdar-night-the-lotus-66972.midi')\n",
    "for i, track in enumerate(mid.tracks):\n",
    "    #print('Track {}: {}'.format(i, track.name))\n",
    "    for msg in track:\n",
    "        if msg.type == 'note_on':\n",
    "            newNote = (msg.note,msg.time)\n",
    "            noteon.append(newNote)\n",
    "#print(noteon)"
   ]
  },
  {
   "cell_type": "code",
   "execution_count": 9,
   "metadata": {},
   "outputs": [
    {
     "name": "stdout",
     "output_type": "stream",
     "text": [
      "[49, 40, 494, 486, 469, 17, 40, 40, 44, 40, 40, 44, 27, 40, 40, 44, 40, 40, 40, 40, 44, 1046, 984, 70, 40, 44, 40, 40, 44, 40, 40, 40, 40, 44, 1046, 984, 70, 40, 44, 44, 40, 40, 40, 44, 1046, 984, 70, 44, 40, 40, 40, 40, 5, 40, 40, 40, 40, 40, 44, 40, 40, 44, 40, 40, 44, 27, 1046, 984, 70, 44, 40, 40, 44, 40, 40, 44, 40, 40, 44, 1046, 984, 70, 40, 1, 40, 44, 40, 40, 40, 40, 40, 44, 40, 40, 44, 1046, 70, 1046, 984, 70, 44, 40, 40, 40, 40, 40, 44, 40, 40, 40, 40, 44, 40, 40, 44, 40, 40, 40, 40, 40, 40, 40, 44, 1046, 984, 70, 40, 40, 40, 40, 5, 1046, 984, 70, 44, 49, 40, 40, 40, 40, 40, 44, 40, 44, 40, 40, 44, 1046, 984, 68, 39, 40, 40, 40, 40, 44, 44, 40, 40, 41, 40, 44, 40, 40, 44, 40, 40, 40, 40, 44, 40, 5, 40, 44, 40, 40, 44, 40, 40, 40, 40, 44, 1046, 984, 70, 40, 44, 40, 40, 44, 40, 40, 40, 40, 44, 1046, 984, 70, 40, 44, 44, 40, 40, 40, 44, 1046, 984, 70, 44, 40, 40, 40, 40, 5, 40, 40, 40, 40, 40, 44, 40, 40, 44, 40, 40, 44, 27, 1046, 984, 70, 44, 40, 40, 44, 40, 40, 44, 40, 40, 44, 1046, 984, 70, 40, 1, 40, 44, 40, 40, 40, 40, 40, 44, 40, 40, 44, 1046, 70, 40, 40, 40, 40, 40, 44, 40, 40, 40, 40, 44, 40, 40, 5, 40, 44, 40, 40, 44, 40, 40, 40, 40, 1, 44, 40, 40, 40, 1, 44, 1046, 984, 978, 1018, 984, 70]\n",
      "294\n"
     ]
    }
   ],
   "source": [
    "velo = []\n",
    "for i, track in enumerate(mid.tracks):\n",
    "    #print('Track {}: {}'.format(i, track.name))\n",
    "    for msg in track:\n",
    "        if msg.type == 'note_on':\n",
    "            velo.append(msg.time)"
   ]
  },
  {
   "cell_type": "code",
   "execution_count": 3,
   "metadata": {},
   "outputs": [
    {
     "name": "stdout",
     "output_type": "stream",
     "text": [
      "2192937360\n",
      "('Seed used for random values:', 2192937360)\n"
     ]
    }
   ],
   "source": [
    "def set_seed(seed=None):\n",
    "    \"\"\"Making the seed (for random values) variable if None\"\"\"\n",
    "\n",
    "    if seed is None:\n",
    "        import time\n",
    "        seed = int((time.time()*10**6) % 4294967295)\n",
    "        print(seed)\n",
    "    try:\n",
    "        np.random.seed(seed)\n",
    "        print(\"Seed used for random values:\", seed)\n",
    "    except:\n",
    "        print(\"!!! WARNING !!!: Seed was not set correctly.\")\n",
    "    return seed\n",
    "\n",
    "class Network(object):\n",
    "\n",
    "    def __init__(self, trainLen=2000, testLen=2000, initLen=100) :\n",
    "        self.initLen = initLen\n",
    "        self.trainLen = trainLen\n",
    "        self.testLen = testLen\n",
    "        self.input_text = noteon #The one to keep\n",
    "        #self.file = open(\"text/Pigs.txt\", \"r\").read() #to delete\n",
    "        #self.input_text = list(self.file) #to delete\n",
    "        self.resSize = 300\n",
    "        self.a = 0.3\n",
    "        self.spectral_radius = 1.25\n",
    "        self.input_scaling = 1.\n",
    "        self.reg =  1e-8\n",
    "        self.mode = 'prediction'\n",
    "        seed = None #42\n",
    "        set_seed(seed)\n",
    "        \n",
    "nw = Network()"
   ]
  },
  {
   "cell_type": "code",
   "execution_count": 4,
   "metadata": {},
   "outputs": [],
   "source": [
    "def notes(nw) :\n",
    "    nw.input_units, nw.output_units = dict(), dict()\n",
    "    for i, item in enumerate(set(nw.input_text)) : nw.input_units[item] = i\n",
    "    for i, item in enumerate(set(nw.input_text)) : nw.output_units[i] = item\n",
    "    print(\"\\nExisting notes in the music :\", sorted(nw.input_units),\n",
    "          \"\\nNumber of different notes :\", len(nw.input_units), \"\\n\")\n",
    "    return(nw)"
   ]
  },
  {
   "cell_type": "code",
   "execution_count": 5,
   "metadata": {},
   "outputs": [],
   "source": [
    "def convert_input(nw) :\n",
    "    print(\"Converting input into ID numbers...\")\n",
    "    nw.data = np.array([nw.input_units[i] for i in nw.input_text])\n",
    "    print(nw.data)\n",
    "    nw.inSize = nw.outSize = len(nw.input_units)\n",
    "    print(\"done.\")\n",
    "    return(nw)"
   ]
  },
  {
   "cell_type": "code",
   "execution_count": 6,
   "metadata": {},
   "outputs": [],
   "source": [
    "def binary_data(nw) :\n",
    "    print(\"Creating the input binary matrix...\")#, end=\" \")\n",
    "    nw.data_b = np.zeros((len(nw.input_text), len(nw.input_units)))\n",
    "    for i, item in enumerate(nw.data) :\n",
    "        nw.data_b[i][item] = 1\n",
    "    print(nw.data_b)\n",
    "    print(\"done.\\n\") \n",
    "    return(nw)"
   ]
  },
  {
   "cell_type": "markdown",
   "metadata": {},
   "source": [
    "## Initialisation du réseau"
   ]
  },
  {
   "cell_type": "code",
   "execution_count": 7,
   "metadata": {},
   "outputs": [],
   "source": [
    "def initialization(nw) :\n",
    "    print(\"\\nInitializing the network matrices...\")#, end=\" \")\n",
    "    set_seed()\n",
    "    nw.Win = (np.random.rand(nw.resSize,1+nw.inSize)-0.5) * nw.input_scaling\n",
    "    nw.W = np.random.rand(nw.resSize,nw.resSize)-0.5 \n",
    "    nw.X = np.zeros((1+nw.inSize+nw.resSize,nw.trainLen-nw.initLen))\n",
    "    nw.Ytarget = nw.data_b[nw.initLen+1:nw.trainLen+1].T\n",
    "    nw.x = np.zeros((nw.resSize,1))\n",
    "    print(\"done.\")\n",
    "    return(nw)\n",
    "\n",
    "def compute_spectral_radius(nw):\n",
    "    print('Computing spectral radius...')#,end=\" \")\n",
    "    rhoW = max(abs(linalg.eig(nw.W)[0]))\n",
    "    print('done.')\n",
    "    nw.W *= nw.spectral_radius / rhoW\n",
    "    return(nw)\n",
    "\n",
    "def train_network(nw) :\n",
    "    print('Training the network...')#, end=\" \")\n",
    "    percent = 0.1\n",
    "    for t in range(nw.trainLen):\n",
    "        percent = progression(percent, t, nw.trainLen)\n",
    "        nw.u = nw.data_b[t%len(nw.data)]\n",
    "        nw.x = (1-nw.a)*nw.x + nw.a*np.tanh( np.dot(nw.Win, np.concatenate((np.array([1]),nw.u)).reshape(len(nw.input_units)+1,1) ) + np.dot( nw.W, nw.x ) )\n",
    "        if t >= nw.initLen :\n",
    "            nw.X[:,t-nw.initLen] = np.concatenate((np.array([1]),nw.u,nw.x[:,0])).reshape(len(nw.input_units)+nw.resSize+1,1)[:,0]      \n",
    "    print('done.')\n",
    "    return(nw)\n",
    "\n",
    "def train_output(nw) :\n",
    "    print('Training the output...')#, end=\" \")\n",
    "    nw.X_T = nw.X.T\n",
    "    if nw.reg is not None:\n",
    "        nw.Wout = np.dot(np.dot(nw.Ytarget,nw.X_T), linalg.inv(np.dot(nw.X,nw.X_T) + \\\n",
    "            nw.reg*np.eye(1+nw.inSize+nw.resSize) ) )\n",
    "    else:\n",
    "        nw.Wout = np.dot(nw.Ytarget, linalg.pinv(nw.X) )   \n",
    "    print('done.')\n",
    "    return(nw)\n",
    "\n",
    "def test(nw) :\n",
    "    print('Testing the network... (', nw.mode, ' mode)')#, sep=\"\")#, end=\" \")\n",
    "    nw.Y = np.zeros((nw.outSize,nw.testLen))\n",
    "    nw.u = nw.data_b[nw.trainLen%len(nw.data)]\n",
    "    percent = 0.1\n",
    "    for t in range(nw.testLen):\n",
    "        percent = progression(percent, t, nw.trainLen)\n",
    "        nw.x = (1-nw.a)*nw.x + nw.a*np.tanh( np.dot(nw.Win, np.concatenate((np.array([1]),nw.u)).reshape(len(nw.input_units)+1,1)\\\n",
    "                                                   ) + np.dot(nw.W,nw.x ) )\n",
    "        nw.y = np.dot(nw.Wout, np.concatenate((np.array([1]),nw.u,nw.x[:,0])).reshape(len(nw.input_units)+nw.resSize+1,1)[:,0] )\n",
    "        nw.Y[:,t] = nw.y\n",
    "        if nw.mode == 'generative':\n",
    "            # generative mode:\n",
    "            nw.u = nw.y\n",
    "        elif nw.mode == 'prediction':\n",
    "            ## predictive mode:\n",
    "            nw.u = np.zeros(len(nw.input_units))\n",
    "            nw.u[nw.data[(nw.trainLen+t+1)%len(nw.data)]] = 1\n",
    "        else:\n",
    "            raise(Exception, \"ERROR: 'mode' was not set correctly.\")\n",
    "    print('done.\\n')\n",
    "    return(nw)\n",
    "\n",
    "def compute_error(nw) :\n",
    "    print(\"Computing the error...\")#, end=\" \")\n",
    "    errorLen = 50\n",
    "    mse = sum( np.square( nw.data[(nw.trainLen+1)%len(nw.data):(nw.trainLen+errorLen+1)%len(nw.data)] - nw.Y[0,0:errorLen] ) ) / errorLen\n",
    "    print('MSE = ' + str( mse ))\n",
    "    return(nw)"
   ]
  },
  {
   "cell_type": "code",
   "execution_count": 8,
   "metadata": {},
   "outputs": [],
   "source": [
    "def convert_output(nw) :\n",
    "    nw.output_text = []\n",
    "    print(\"Converting the output...\")\n",
    "    for i in range(len(nw.Y.T)) :\n",
    "        nw.output_text.append(nw.output_units[nw.Y.T[i].argmax()])\n",
    "    print(\"done.\")\n",
    "    return(nw.output_text)"
   ]
  },
  {
   "cell_type": "code",
   "execution_count": 9,
   "metadata": {},
   "outputs": [],
   "source": [
    "def progression(percent, i, total) :\n",
    "    if i == 0 :\n",
    "        print(\"Progress :\")\n",
    "        percent = 0.1\n",
    "    elif (i/total) > percent :\n",
    "        print(round(percent*100))\n",
    "        print(\"%\")\n",
    "        percent += 0.1\n",
    "    if total-i == 1 :\n",
    "        print(\"100%\")\n",
    "    return(percent)"
   ]
  },
  {
   "cell_type": "code",
   "execution_count": 10,
   "metadata": {},
   "outputs": [],
   "source": [
    "def compute_network(nw) :\n",
    "    nw = notes(nw)\n",
    "    nw = convert_input(nw)\n",
    "    nw = binary_data(nw)\n",
    "    nw = initialization(nw)\n",
    "    nw = compute_spectral_radius(nw)\n",
    "    nw = train_network(nw)\n",
    "    nw = train_output(nw)\n",
    "    nw = test(nw) \n",
    "    #nw = compute_error(nw)\n",
    "    nw = convert_output(nw)\n",
    "    return(nw)"
   ]
  },
  {
   "cell_type": "markdown",
   "metadata": {},
   "source": [
    "## Définition des paramètres du réseau"
   ]
  },
  {
   "cell_type": "code",
   "execution_count": 11,
   "metadata": {},
   "outputs": [
    {
     "name": "stdout",
     "output_type": "stream",
     "text": [
      "('InitLen:', 50, 'TrainLen:', 100, 'TestLen:', 100)\n",
      "('ResSize:', 100, 'Spectral Radius:', 1.25, 'Leak Rate:', 0.3)\n",
      "('\\nExisting notes in the music :', [(60, 44), (60, 984), (62, 27), (62, 40), (62, 44), (62, 70), (62, 1046), (64, 40), (64, 44), (64, 984), (64, 1046), (65, 1), (65, 5), (65, 40), (65, 44), (65, 70), (65, 984), (65, 1046), (66, 40), (66, 44), (67, 1), (67, 5), (67, 40), (67, 44), (67, 70), (67, 494), (67, 1018), (67, 1046), (68, 40), (68, 984), (68, 1046), (69, 1), (69, 5), (69, 40), (69, 44), (69, 49), (69, 486), (70, 5), (70, 40), (70, 44), (70, 70), (70, 469), (70, 978), (70, 984), (72, 40), (72, 44), (72, 70), (73, 40), (74, 40), (74, 1046), (75, 40), (75, 41), (75, 44), (75, 984), (76, 17), (76, 40), (76, 44), (76, 49), (77, 40), (77, 44), (78, 40), (78, 44), (79, 40), (79, 44), (79, 70), (81, 40), (81, 44), (81, 984), (82, 39), (82, 40), (82, 44), (82, 1046), (84, 44), (84, 68)], '\\nNumber of different notes :', 74, '\\n')\n",
      "Converting input into ID numbers...\n",
      "[13 11 73 59  8 66  0  9 47  4  0 15 40 57 11 10  4 38 11 57 45 70 17 39\n",
      "  0 41 57 11 10  4 38 11 57 45 70 17 39  0 69  5  9 50 38 31  6 64 39  1\n",
      " 55 50  0 38 58  9 11 57 26  9 22 50  4 41 57 26 41 40  6 42 27 22 55  0\n",
      " 15 34 30  1 55 18  3 53  2 32 11 72 25 22 68 55  0 26  9 63 49 26 63 28\n",
      " 44 24 14 44  1  0 50  4  0 30 15 30 68 55  0 62 21 30 15 30 68 55 38  9\n",
      " 11 57 54  6 33 52  4 38  9 11 48 51 14 32 31 60  4 50  0 61 38 10 68 15\n",
      " 34 30 12 43 29 36 56 21 30 55 30 37 22 21 68 23  0 22 21 34 12 34 21 30\n",
      " 46 47  9 20 11 41 57 11 10  4 38 11 57 45 70 17 39  0 41 57 11 10  4 38\n",
      " 11 57 45 70 17 39  0 69  5  9 50 38 31  6 64 39  1 55 50  0 38 58  9 11\n",
      " 57 26  9 22 50  4 41 57 26 41 40  6 42 27 22 55  0 15 34 30  1 55 18  3\n",
      " 53  2 32 11 72 25 22 68 55  0 26  9 63 49 26 63 28 65 68 55  0 38  9  5\n",
      " 57 49 57 11  3 38  4 19  9  5 57 11 71 21 30 68 38 16 31 49 57  9 67  5\n",
      "  6 42  7 35  2 44]\n",
      "done.\n",
      "Creating the input binary matrix...\n",
      "[[0. 0. 0. ... 0. 0. 0.]\n",
      " [0. 0. 0. ... 0. 0. 0.]\n",
      " [0. 0. 0. ... 0. 0. 1.]\n",
      " ...\n",
      " [0. 0. 0. ... 0. 0. 0.]\n",
      " [0. 0. 1. ... 0. 0. 0.]\n",
      " [0. 0. 0. ... 0. 0. 0.]]\n",
      "done.\n",
      "\n",
      "\n",
      "Initializing the network matrices...\n",
      "2213682676\n",
      "('Seed used for random values:', 2213682676)\n",
      "done.\n",
      "Computing spectral radius...\n",
      "done.\n",
      "Training the network...\n",
      "Progress :\n",
      "100%\n",
      "done.\n",
      "Training the output...\n",
      "done.\n",
      "('Testing the network... (', 'prediction', ' mode)')\n",
      "Progress :\n",
      "100%\n",
      "done.\n",
      "\n",
      "Converting the output...\n",
      "done.\n"
     ]
    }
   ],
   "source": [
    "select_mode = ToggleButtons(description='Mode:',\n",
    "    options=['prediction', 'generative'])\n",
    "var1 = FloatSlider(value=100, min=0, max=1000, step=1, description='resSize')\n",
    "var2 = FloatSlider(value=50, min=0, max=2000, step=1, description='initLen')\n",
    "var3 = FloatSlider(value=100, min=0, max=5000, step=1, description='trainLen')\n",
    "var4 = FloatSlider(value=100, min=0, max=5000, step=1, description='testLen')\n",
    "var5 = FloatSlider(value=1.25, min=0, max=10, step=0.05, description='spectral radius')\n",
    "var6 = FloatSlider(value=0.3, min=0, max=1, step=0.01, description='leak rate')\n",
    "valid = Button(description='Valider')\n",
    "\n",
    "def record_values(_) :\n",
    "    clear_output()\n",
    "    nw.mode=select_mode.value\n",
    "    nw.resSize=int(var1.value)\n",
    "    nw.initLen=int(var2.value)\n",
    "    nw.trainLen=int(var3.value)\n",
    "    nw.testLen=int(var4.value)\n",
    "    nw.spectral_radius=float(var5.value)\n",
    "    nw.a=float(var6.value)\n",
    "    print(\"InitLen:\", nw.initLen, \"TrainLen:\", nw.trainLen, \"TestLen:\", nw.testLen) \n",
    "    print(\"ResSize:\", nw.resSize, \"Spectral Radius:\", nw.spectral_radius, \"Leak Rate:\", nw.a)\n",
    "    compute_network(nw)\n",
    "    return(nw)\n",
    "\n",
    "display(select_mode)\n",
    "display(var1)\n",
    "display(var2)\n",
    "display(var3)\n",
    "display(var4)\n",
    "display(var5)\n",
    "display(var6)\n",
    "display(valid)\n",
    "\n",
    "valid.on_click(record_values)"
   ]
  },
  {
   "cell_type": "code",
   "execution_count": 12,
   "metadata": {},
   "outputs": [
    {
     "data": {
      "application/vnd.jupyter.widget-view+json": {
       "model_id": "52990279408b49b9b5659c4f8ce8f06d",
       "version_major": 2,
       "version_minor": 0
      },
      "text/plain": [
       "Button(description=u'Show the output!', style=ButtonStyle())"
      ]
     },
     "metadata": {},
     "output_type": "display_data"
    },
    {
     "name": "stdout",
     "output_type": "stream",
     "text": [
      "[(76, 40), (64, 44), (70, 40), (64, 44), (64, 44), (77, 44), (82, 40), (77, 44), (76, 40), (62, 44), (66, 40), (81, 44), (81, 44), (77, 44), (82, 40), (66, 40), (76, 40), (67, 40), (66, 40), (66, 40), (64, 40), (66, 40), (67, 40), (67, 40), (79, 44), (79, 44), (67, 40), (66, 40), (79, 44), (79, 44), (79, 44), (79, 44), (79, 44), (79, 44), (79, 44), (79, 44), (79, 44), (70, 40), (79, 44), (79, 44), (69, 5), (62, 44), (76, 40), (82, 40), (79, 40), (77, 44), (62, 44), (62, 44), (62, 44), (62, 44), (79, 44), (81, 44), (77, 44), (78, 40), (66, 40), (66, 40), (72, 40), (62, 44), (76, 40), (62, 44), (64, 44), (72, 40), (62, 1046), (64, 44), (64, 44), (64, 44), (62, 44), (62, 44), (62, 1046), (64, 44), (62, 44), (64, 44), (64, 40), (64, 44), (66, 40), (64, 40), (62, 44), (62, 44), (62, 44), (62, 44), (62, 44), (62, 44), (62, 44), (62, 44), (62, 44), (62, 44), (79, 44), (81, 44), (62, 44), (62, 44), (62, 44), (62, 44), (62, 44), (62, 44), (62, 44), (79, 44), (79, 44), (62, 44), (62, 44), (79, 44)]\n"
     ]
    }
   ],
   "source": [
    "valid3 = Button(description='Show the output!')\n",
    "\n",
    "def show_output(_) :\n",
    "    print(nw.output_text)\n",
    "\n",
    "display(valid3)\n",
    "valid3.on_click(show_output)"
   ]
  },
  {
   "cell_type": "code",
   "execution_count": 26,
   "metadata": {},
   "outputs": [],
   "source": [
    "def new_file():\n",
    "    mid=MidiFile()\n",
    "    track=MidiTrack()\n",
    "    mid.tracks.append(track)\n",
    "    track.append(Message('program_change', program=74, time=0))\n",
    "    for n in nw.output_text:\n",
    "        track.append(Message('note_on',note=n[0],velocity=64,time=n[1]))\n",
    "        track.append(Message('note_off',note=n[0],velocity=64,time=n[1]))\n",
    "    mid.save('monMorceau_pred_m_r.mid')"
   ]
  },
  {
   "cell_type": "code",
   "execution_count": 27,
   "metadata": {},
   "outputs": [],
   "source": [
    "new_file()"
   ]
  },
  {
   "cell_type": "code",
   "execution_count": null,
   "metadata": {},
   "outputs": [],
   "source": []
  }
 ],
 "metadata": {
  "kernelspec": {
   "display_name": "Python 2",
   "language": "python",
   "name": "python2"
  },
  "language_info": {
   "codemirror_mode": {
    "name": "ipython",
    "version": 2
   },
   "file_extension": ".py",
   "mimetype": "text/x-python",
   "name": "python",
   "nbconvert_exporter": "python",
   "pygments_lexer": "ipython2",
   "version": "2.7.15rc1"
  }
 },
 "nbformat": 4,
 "nbformat_minor": 2
}
