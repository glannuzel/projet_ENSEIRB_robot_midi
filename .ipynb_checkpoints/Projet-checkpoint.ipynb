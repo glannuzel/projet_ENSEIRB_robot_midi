{
 "cells": [
  {
   "cell_type": "markdown",
   "metadata": {},
   "source": [
    "# Projet ia "
   ]
  },
  {
   "cell_type": "code",
   "execution_count": 1,
   "metadata": {},
   "outputs": [],
   "source": [
    "import numpy as np\n",
    "import matplotlib.pyplot as plt\n",
    "from mido import MidiFile, MidiTrack, Message\n",
    "from scipy import linalg\n",
    "from ipywidgets import *\n",
    "from IPython.display import *\n",
    "\n",
    "#Pour afficher les courbes dans le notebook\n",
    "%matplotlib inline"
   ]
  },
  {
   "cell_type": "code",
   "execution_count": 8,
   "metadata": {},
   "outputs": [
    {
     "name": "stdout",
     "output_type": "stream",
     "text": [
      "[76, 65, 67, 69, 70, 76, 74, 67, 69, 70, 74, 81, 62, 64, 65, 78, 70, 69, 65, 64, 72, 74, 75, 62, 74, 62, 64, 65, 78, 70, 69, 65, 64, 72, 74, 75, 62, 74, 70, 65, 67, 72, 69, 66, 64, 60, 62, 77, 76, 72, 74, 69, 69, 67, 65, 64, 66, 67, 79, 72, 70, 62, 64, 66, 62, 62, 64, 65, 70, 79, 76, 74, 81, 82, 79, 77, 76, 78, 67, 65, 64, 67, 65, 65, 68, 79, 77, 76, 74, 66, 67, 64, 62, 66, 64, 62, 65, 67, 70, 65, 77, 74, 72, 70, 74, 79, 81, 79, 77, 76, 74, 76, 81, 79, 81, 79, 77, 76, 69, 67, 65, 64, 60, 64, 68, 72, 70, 69, 67, 65, 65, 68, 70, 67, 66, 69, 70, 72, 74, 73, 69, 78, 77, 81, 82, 79, 84, 82, 81, 84, 82, 81, 79, 76, 79, 75, 79, 81, 77, 75, 74, 79, 81, 82, 84, 82, 81, 79, 75, 69, 67, 67, 65, 62, 64, 65, 78, 70, 69, 65, 64, 72, 74, 75, 62, 74, 62, 64, 65, 78, 70, 69, 65, 64, 72, 74, 75, 62, 74, 70, 65, 67, 72, 69, 66, 64, 60, 62, 77, 76, 72, 74, 69, 69, 67, 65, 64, 66, 67, 79, 72, 70, 62, 64, 66, 62, 62, 64, 65, 70, 79, 76, 74, 81, 82, 79, 77, 76, 78, 67, 65, 64, 67, 65, 65, 68, 79, 77, 76, 74, 66, 67, 64, 62, 66, 64, 62, 79, 77, 76, 74, 69, 67, 65, 64, 62, 64, 65, 67, 69, 70, 70, 67, 65, 64, 65, 82, 81, 79, 77, 69, 69, 66, 62, 64, 67, 67, 65, 64, 65, 70, 67, 64, 65]\n",
      "294\n"
     ]
    }
   ],
   "source": [
    "noteon = []\n",
    "mid = MidiFile('midi-classique-flute/[Free-scores.com]_ali-choobdar-night-the-lotus-66972.midi')\n",
    "for i, track in enumerate(mid.tracks):\n",
    "    #print('Track {}: {}'.format(i, track.name))\n",
    "    for msg in track:\n",
    "        if msg.type == 'note_on':\n",
    "            noteon.append(msg.note)\n",
    "print(noteon)\n",
    "print(len(noteon))"
   ]
  },
  {
   "cell_type": "code",
   "execution_count": 9,
   "metadata": {},
   "outputs": [
    {
     "name": "stdout",
     "output_type": "stream",
     "text": [
      "[49, 40, 494, 486, 469, 17, 40, 40, 44, 40, 40, 44, 27, 40, 40, 44, 40, 40, 40, 40, 44, 1046, 984, 70, 40, 44, 40, 40, 44, 40, 40, 40, 40, 44, 1046, 984, 70, 40, 44, 44, 40, 40, 40, 44, 1046, 984, 70, 44, 40, 40, 40, 40, 5, 40, 40, 40, 40, 40, 44, 40, 40, 44, 40, 40, 44, 27, 1046, 984, 70, 44, 40, 40, 44, 40, 40, 44, 40, 40, 44, 1046, 984, 70, 40, 1, 40, 44, 40, 40, 40, 40, 40, 44, 40, 40, 44, 1046, 70, 1046, 984, 70, 44, 40, 40, 40, 40, 40, 44, 40, 40, 40, 40, 44, 40, 40, 44, 40, 40, 40, 40, 40, 40, 40, 44, 1046, 984, 70, 40, 40, 40, 40, 5, 1046, 984, 70, 44, 49, 40, 40, 40, 40, 40, 44, 40, 44, 40, 40, 44, 1046, 984, 68, 39, 40, 40, 40, 40, 44, 44, 40, 40, 41, 40, 44, 40, 40, 44, 40, 40, 40, 40, 44, 40, 5, 40, 44, 40, 40, 44, 40, 40, 40, 40, 44, 1046, 984, 70, 40, 44, 40, 40, 44, 40, 40, 40, 40, 44, 1046, 984, 70, 40, 44, 44, 40, 40, 40, 44, 1046, 984, 70, 44, 40, 40, 40, 40, 5, 40, 40, 40, 40, 40, 44, 40, 40, 44, 40, 40, 44, 27, 1046, 984, 70, 44, 40, 40, 44, 40, 40, 44, 40, 40, 44, 1046, 984, 70, 40, 1, 40, 44, 40, 40, 40, 40, 40, 44, 40, 40, 44, 1046, 70, 40, 40, 40, 40, 40, 44, 40, 40, 40, 40, 44, 40, 40, 5, 40, 44, 40, 40, 44, 40, 40, 40, 40, 1, 44, 40, 40, 40, 1, 44, 1046, 984, 978, 1018, 984, 70]\n",
      "294\n"
     ]
    }
   ],
   "source": [
    "velo = []\n",
    "for i, track in enumerate(mid.tracks):\n",
    "    #print('Track {}: {}'.format(i, track.name))\n",
    "    for msg in track:\n",
    "        if msg.type == 'note_on':\n",
    "            velo.append(msg.time)\n",
    "print(velo)\n",
    "print(len(velo))"
   ]
  },
  {
   "cell_type": "code",
   "execution_count": 39,
   "metadata": {},
   "outputs": [
    {
     "name": "stdout",
     "output_type": "stream",
     "text": [
      "3869216308\n",
      "('Seed used for random values:', 3869216308)\n"
     ]
    }
   ],
   "source": [
    "def set_seed(seed=None):\n",
    "    \"\"\"Making the seed (for random values) variable if None\"\"\"\n",
    "\n",
    "    if seed is None:\n",
    "        import time\n",
    "        seed = int((time.time()*10**6) % 4294967295)\n",
    "        print(seed)\n",
    "    try:\n",
    "        np.random.seed(seed)\n",
    "        print(\"Seed used for random values:\", seed)\n",
    "    except:\n",
    "        print(\"!!! WARNING !!!: Seed was not set correctly.\")\n",
    "    return seed\n",
    "\n",
    "class Network(object):\n",
    "\n",
    "    def __init__(self, trainLen=2000, testLen=2000, initLen=100) :\n",
    "        self.initLen = initLen\n",
    "        self.trainLen = trainLen\n",
    "        self.testLen = testLen\n",
    "        self.input_text = noteon #The one to keep\n",
    "        #self.file = open(\"text/Pigs.txt\", \"r\").read() #to delete\n",
    "        #self.input_text = list(self.file) #to delete\n",
    "        self.resSize = 300\n",
    "        self.a = 0.3\n",
    "        self.spectral_radius = 1.25\n",
    "        self.input_scaling = 1.\n",
    "        self.reg =  1e-8\n",
    "        self.mode = 'prediction'\n",
    "        seed = None #42\n",
    "        set_seed(seed)\n",
    "        \n",
    "nw = Network()"
   ]
  },
  {
   "cell_type": "code",
   "execution_count": 40,
   "metadata": {},
   "outputs": [],
   "source": [
    "def notes(nw) :\n",
    "    nw.input_units, nw.output_units = dict(), dict()\n",
    "    for i, item in enumerate(set(nw.input_text)) : nw.input_units[item] = i\n",
    "    for i, item in enumerate(set(nw.input_text)) : nw.output_units[i] = item\n",
    "    print(\"\\nExisting notes in the music :\", sorted(nw.input_units),\n",
    "          \"\\nNumber of different notes :\", len(nw.input_units), \"\\n\")\n",
    "    return(nw)"
   ]
  },
  {
   "cell_type": "code",
   "execution_count": 41,
   "metadata": {},
   "outputs": [],
   "source": [
    "def convert_input(nw) :\n",
    "    print(\"Converting input into ID numbers...\")\n",
    "    nw.data = np.array([nw.input_units[i] for i in nw.input_text])\n",
    "    print(nw.data)\n",
    "    nw.inSize = nw.outSize = len(nw.input_units)\n",
    "    print(\"done.\")\n",
    "    return(nw)"
   ]
  },
  {
   "cell_type": "code",
   "execution_count": 42,
   "metadata": {},
   "outputs": [],
   "source": [
    "def binary_data(nw) :\n",
    "    print(\"Creating the input binary matrix...\")#, end=\" \")\n",
    "    nw.data_b = np.zeros((len(nw.input_text), len(nw.input_units)))\n",
    "    for i, item in enumerate(nw.data) :\n",
    "        nw.data_b[i][item] = 1\n",
    "    print(nw.data_b)\n",
    "    print(\"done.\\n\") \n",
    "    return(nw)"
   ]
  },
  {
   "cell_type": "markdown",
   "metadata": {},
   "source": [
    "## Initialisation du réseau"
   ]
  },
  {
   "cell_type": "code",
   "execution_count": 43,
   "metadata": {},
   "outputs": [],
   "source": [
    "def initialization(nw) :\n",
    "    print(\"\\nInitializing the network matrices...\")#, end=\" \")\n",
    "    set_seed()\n",
    "    nw.Win = (np.random.rand(nw.resSize,1+nw.inSize)-0.5) * nw.input_scaling\n",
    "    nw.W = np.random.rand(nw.resSize,nw.resSize)-0.5 \n",
    "    nw.X = np.zeros((1+nw.inSize+nw.resSize,nw.trainLen-nw.initLen))\n",
    "    nw.Ytarget = nw.data_b[nw.initLen+1:nw.trainLen+1].T\n",
    "    nw.x = np.zeros((nw.resSize,1))\n",
    "    print(\"done.\")\n",
    "    return(nw)\n",
    "\n",
    "def compute_spectral_radius(nw):\n",
    "    print('Computing spectral radius...')#,end=\" \")\n",
    "    rhoW = max(abs(linalg.eig(nw.W)[0]))\n",
    "    print('done.')\n",
    "    nw.W *= nw.spectral_radius / rhoW\n",
    "    return(nw)\n",
    "\n",
    "def train_network(nw) :\n",
    "    print('Training the network...')#, end=\" \")\n",
    "    percent = 0.1\n",
    "    for t in range(nw.trainLen):\n",
    "        percent = progression(percent, t, nw.trainLen)\n",
    "        nw.u = nw.data_b[t%len(nw.data)]\n",
    "        nw.x = (1-nw.a)*nw.x + nw.a*np.tanh( np.dot(nw.Win, np.concatenate((np.array([1]),nw.u)).reshape(len(nw.input_units)+1,1) ) + np.dot( nw.W, nw.x ) )\n",
    "        if t >= nw.initLen :\n",
    "            nw.X[:,t-nw.initLen] = np.concatenate((np.array([1]),nw.u,nw.x[:,0])).reshape(len(nw.input_units)+nw.resSize+1,1)[:,0]      \n",
    "    print('done.')\n",
    "    return(nw)\n",
    "\n",
    "def train_output(nw) :\n",
    "    print('Training the output...')#, end=\" \")\n",
    "    nw.X_T = nw.X.T\n",
    "    if nw.reg is not None:\n",
    "        nw.Wout = np.dot(np.dot(nw.Ytarget,nw.X_T), linalg.inv(np.dot(nw.X,nw.X_T) + \\\n",
    "            nw.reg*np.eye(1+nw.inSize+nw.resSize) ) )\n",
    "    else:\n",
    "        nw.Wout = np.dot(nw.Ytarget, linalg.pinv(nw.X) )   \n",
    "    print('done.')\n",
    "    return(nw)\n",
    "\n",
    "def test(nw) :\n",
    "    print('Testing the network... (', nw.mode, ' mode)')#, sep=\"\")#, end=\" \")\n",
    "    nw.Y = np.zeros((nw.outSize,nw.testLen))\n",
    "    nw.u = nw.data_b[nw.trainLen%len(nw.data)]\n",
    "    percent = 0.1\n",
    "    for t in range(nw.testLen):\n",
    "        percent = progression(percent, t, nw.trainLen)\n",
    "        nw.x = (1-nw.a)*nw.x + nw.a*np.tanh( np.dot(nw.Win, np.concatenate((np.array([1]),nw.u)).reshape(len(nw.input_units)+1,1)\\\n",
    "                                                   ) + np.dot(nw.W,nw.x ) )\n",
    "        nw.y = np.dot(nw.Wout, np.concatenate((np.array([1]),nw.u,nw.x[:,0])).reshape(len(nw.input_units)+nw.resSize+1,1)[:,0] )\n",
    "        nw.Y[:,t] = nw.y\n",
    "        if nw.mode == 'generative':\n",
    "            # generative mode:\n",
    "            nw.u = nw.y\n",
    "        elif nw.mode == 'prediction':\n",
    "            ## predictive mode:\n",
    "            nw.u = np.zeros(len(nw.input_units))\n",
    "            nw.u[nw.data[(nw.trainLen+t+1)%len(nw.data)]] = 1\n",
    "        else:\n",
    "            raise(Exception, \"ERROR: 'mode' was not set correctly.\")\n",
    "    print('done.\\n')\n",
    "    return(nw)\n",
    "\n",
    "def compute_error(nw) :\n",
    "    print(\"Computing the error...\")#, end=\" \")\n",
    "    errorLen = 50\n",
    "    mse = sum( np.square( nw.data[(nw.trainLen+1)%len(nw.data):(nw.trainLen+errorLen+1)%len(nw.data)] - nw.Y[0,0:errorLen] ) ) / errorLen\n",
    "    print('MSE = ' + str( mse ))\n",
    "    return(nw)"
   ]
  },
  {
   "cell_type": "code",
   "execution_count": 44,
   "metadata": {},
   "outputs": [],
   "source": [
    "def convert_output(nw) :\n",
    "    nw.output_text = []\n",
    "    print(\"Converting the output...\")\n",
    "    for i in range(len(nw.Y.T)) :\n",
    "        nw.output_text.append(nw.output_units[nw.Y.T[i].argmax()])\n",
    "    print(\"done.\")\n",
    "    return(nw.output_text)"
   ]
  },
  {
   "cell_type": "code",
   "execution_count": 45,
   "metadata": {},
   "outputs": [],
   "source": [
    "def progression(percent, i, total) :\n",
    "    if i == 0 :\n",
    "        print(\"Progress :\")\n",
    "        percent = 0.1\n",
    "    elif (i/total) > percent :\n",
    "        print(round(percent*100))\n",
    "        print(\"%\")\n",
    "        percent += 0.1\n",
    "    if total-i == 1 :\n",
    "        print(\"100%\")\n",
    "    return(percent)"
   ]
  },
  {
   "cell_type": "code",
   "execution_count": 46,
   "metadata": {},
   "outputs": [],
   "source": [
    "def compute_network(nw) :\n",
    "    nw = notes(nw)\n",
    "    nw = convert_input(nw)\n",
    "    nw = binary_data(nw)\n",
    "    nw = initialization(nw)\n",
    "    nw = compute_spectral_radius(nw)\n",
    "    nw = train_network(nw)\n",
    "    nw = train_output(nw)\n",
    "    nw = test(nw) \n",
    "    #nw = compute_error(nw)\n",
    "    nw = convert_output(nw)\n",
    "    return(nw)"
   ]
  },
  {
   "cell_type": "markdown",
   "metadata": {},
   "source": [
    "## Définition des paramètres du réseau"
   ]
  },
  {
   "cell_type": "code",
   "execution_count": 79,
   "metadata": {},
   "outputs": [
    {
     "name": "stdout",
     "output_type": "stream",
     "text": [
      "('InitLen:', 50, 'TrainLen:', 100, 'TestLen:', 100)\n",
      "('ResSize:', 100, 'Spectral Radius:', 1.25, 'Leak Rate:', 0.3)\n",
      "('\\nExisting notes in the music :', [61, 63, 64, 66, 68, 69, 70, 71, 72, 73, 74, 75, 76, 77, 78, 79, 80, 81, 82, 83, 84, 85, 86, 87, 88], '\\nNumber of different notes :', 25, '\\n')\n",
      "Converting input into ID numbers...\n",
      "[ 2  2  7 ... 16 24 24]\n",
      "done.\n",
      "Creating the input binary matrix...\n",
      "[[0. 0. 1. ... 0. 0. 0.]\n",
      " [0. 0. 1. ... 0. 0. 0.]\n",
      " [0. 0. 0. ... 0. 0. 0.]\n",
      " ...\n",
      " [0. 0. 0. ... 0. 0. 0.]\n",
      " [0. 0. 0. ... 0. 0. 1.]\n",
      " [0. 0. 0. ... 0. 0. 1.]]\n",
      "done.\n",
      "\n",
      "\n",
      "Initializing the network matrices...\n",
      "1653470371\n",
      "('Seed used for random values:', 1653470371)\n",
      "done.\n",
      "Computing spectral radius...\n",
      "done.\n",
      "Training the network...\n",
      "Progress :\n",
      "100%\n",
      "done.\n",
      "Training the output...\n",
      "done.\n",
      "('Testing the network... (', 'prediction', ' mode)')\n",
      "Progress :\n",
      "100%\n",
      "done.\n",
      "\n",
      "Converting the output...\n",
      "done.\n"
     ]
    }
   ],
   "source": [
    "select_mode = ToggleButtons(description='Mode:',\n",
    "    options=['prediction', 'generative'])\n",
    "var1 = FloatSlider(value=100, min=0, max=1000, step=1, description='resSize')\n",
    "var2 = FloatSlider(value=50, min=0, max=2000, step=1, description='initLen')\n",
    "var3 = FloatSlider(value=100, min=0, max=5000, step=1, description='trainLen')\n",
    "var4 = FloatSlider(value=100, min=0, max=5000, step=1, description='testLen')\n",
    "var5 = FloatSlider(value=1.25, min=0, max=10, step=0.05, description='spectral radius')\n",
    "var6 = FloatSlider(value=0.3, min=0, max=1, step=0.01, description='leak rate')\n",
    "valid = Button(description='Valider')\n",
    "\n",
    "def record_values(_) :\n",
    "    clear_output()\n",
    "    nw.mode=select_mode.value\n",
    "    nw.resSize=int(var1.value)\n",
    "    nw.initLen=int(var2.value)\n",
    "    nw.trainLen=int(var3.value)\n",
    "    nw.testLen=int(var4.value)\n",
    "    nw.spectral_radius=float(var5.value)\n",
    "    nw.a=float(var6.value)\n",
    "    print(\"InitLen:\", nw.initLen, \"TrainLen:\", nw.trainLen, \"TestLen:\", nw.testLen) \n",
    "    print(\"ResSize:\", nw.resSize, \"Spectral Radius:\", nw.spectral_radius, \"Leak Rate:\", nw.a)\n",
    "    compute_network(nw)\n",
    "    return(nw)\n",
    "\n",
    "display(select_mode)\n",
    "display(var1)\n",
    "display(var2)\n",
    "display(var3)\n",
    "display(var4)\n",
    "display(var5)\n",
    "display(var6)\n",
    "display(valid)\n",
    "\n",
    "valid.on_click(record_values)"
   ]
  },
  {
   "cell_type": "code",
   "execution_count": 80,
   "metadata": {},
   "outputs": [
    {
     "data": {
      "application/vnd.jupyter.widget-view+json": {
       "model_id": "e6966278bb4b42979ecb1281db67f8b0",
       "version_major": 2,
       "version_minor": 0
      },
      "text/plain": [
       "Button(description=u'Show the output!', style=ButtonStyle())"
      ]
     },
     "metadata": {},
     "output_type": "display_data"
    },
    {
     "name": "stdout",
     "output_type": "stream",
     "text": [
      "[75, 81, 75, 75, 75, 75, 81, 81, 81, 81, 81, 81, 81, 81, 81, 81, 81, 81, 81, 75, 81, 81, 81, 81, 81, 81, 81, 81, 81, 81, 81, 81, 81, 81, 81, 75, 81, 81, 81, 81, 81, 81, 81, 81, 81, 81, 81, 81, 75, 75, 75, 75, 75, 75, 75, 75, 75, 75, 75, 75, 75, 75, 75, 75, 75, 75, 75, 75, 75, 75, 75, 75, 75, 75, 75, 75, 75, 75, 75, 75, 75, 75, 75, 75, 75, 75, 75, 75, 75, 75, 75, 75, 75, 75, 75, 75, 75, 81, 81, 81]\n"
     ]
    }
   ],
   "source": [
    "valid3 = Button(description='Show the output!')\n",
    "\n",
    "def show_output(_) :\n",
    "    print(nw.output_text)\n",
    "\n",
    "display(valid3)\n",
    "valid3.on_click(show_output)"
   ]
  },
  {
   "cell_type": "code",
   "execution_count": 49,
   "metadata": {},
   "outputs": [
    {
     "name": "stdout",
     "output_type": "stream",
     "text": [
      "1312\n"
     ]
    }
   ],
   "source": [
    "print(len(nw.data))"
   ]
  },
  {
   "cell_type": "code",
   "execution_count": 81,
   "metadata": {},
   "outputs": [],
   "source": [
    "def new_file():\n",
    "    mid=MidiFile()\n",
    "    track=MidiTrack()\n",
    "    mid.tracks.append(track)\n",
    "    track.append(Message('program_change', program=76, time=0))\n",
    "    for n in nw.output_text:\n",
    "        track.append(Message('note_on',note=n,velocity=64,time=128))\n",
    "        track.append(Message('note_off',note=n,velocity=64,time=128))\n",
    "    mid.save('monMorceau.mid')"
   ]
  },
  {
   "cell_type": "code",
   "execution_count": 82,
   "metadata": {},
   "outputs": [],
   "source": [
    "new_file()"
   ]
  },
  {
   "cell_type": "code",
   "execution_count": null,
   "metadata": {},
   "outputs": [],
   "source": []
  }
 ],
 "metadata": {
  "kernelspec": {
   "display_name": "Python 2",
   "language": "python",
   "name": "python2"
  },
  "language_info": {
   "codemirror_mode": {
    "name": "ipython",
    "version": 2
   },
   "file_extension": ".py",
   "mimetype": "text/x-python",
   "name": "python",
   "nbconvert_exporter": "python",
   "pygments_lexer": "ipython2",
   "version": "2.7.15rc1"
  }
 },
 "nbformat": 4,
 "nbformat_minor": 2
}
