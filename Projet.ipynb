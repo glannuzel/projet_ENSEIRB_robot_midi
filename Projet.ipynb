{
 "cells": [
  {
   "cell_type": "markdown",
   "metadata": {},
   "source": [
    "# Projet ia "
   ]
  },
  {
   "cell_type": "code",
   "execution_count": 57,
   "metadata": {},
   "outputs": [],
   "source": [
    "import numpy as np\n",
    "import matplotlib.pyplot as plt\n",
    "from mido import MidiFile, MidiTrack, Message\n",
    "from scipy import linalg\n",
    "from ipywidgets import *\n",
    "from IPython.display import *\n",
    "\n",
    "#Pour afficher les courbes dans le notebook\n",
    "%matplotlib inline"
   ]
  },
  {
   "cell_type": "code",
   "execution_count": 38,
   "metadata": {},
   "outputs": [
    {
     "name": "stdout",
     "output_type": "stream",
     "text": [
      "[64, 64, 71, 71, 80, 80, 78, 78, 80, 80, 71, 71, 80, 80, 71, 71, 64, 64, 71, 71, 80, 80, 78, 78, 80, 80, 71, 71, 80, 80, 71, 71, 64, 64, 73, 73, 81, 81, 80, 80, 81, 81, 73, 73, 81, 81, 73, 73, 64, 64, 73, 73, 81, 81, 80, 80, 81, 81, 73, 73, 81, 81, 73, 73, 64, 64, 75, 75, 81, 81, 80, 80, 81, 81, 75, 75, 81, 81, 75, 75, 64, 64, 75, 75, 81, 81, 80, 80, 81, 81, 75, 75, 81, 81, 75, 75, 64, 64, 76, 76, 80, 80, 78, 78, 80, 80, 76, 76, 80, 80, 76, 76, 64, 64, 76, 76, 80, 80, 78, 78, 80, 80, 76, 76, 80, 80, 75, 75, 64, 64, 73, 73, 80, 80, 78, 78, 80, 80, 76, 76, 75, 75, 76, 76, 73, 73, 76, 76, 75, 75, 76, 76, 68, 68, 71, 71, 70, 70, 68, 68, 70, 70, 76, 76, 78, 78, 76, 76, 78, 78, 76, 76, 78, 78, 76, 76, 70, 70, 76, 76, 78, 78, 76, 76, 78, 78, 76, 76, 78, 78, 76, 76, 75, 75, 78, 78, 83, 83, 82, 82, 83, 83, 78, 78, 76, 76, 78, 78, 75, 75, 78, 78, 76, 76, 78, 78, 71, 71, 75, 75, 73, 73, 71, 71, 73, 73, 68, 68, 76, 76, 75, 75, 76, 76, 68, 68, 76, 76, 68, 68, 73, 73, 68, 68, 76, 76, 75, 75, 76, 76, 68, 68, 76, 76, 68, 68, 61, 61, 70, 70, 71, 71, 73, 73, 71, 71, 70, 70, 68, 68, 66, 66, 76, 76, 75, 75, 73, 73, 83, 83, 82, 82, 80, 80, 78, 78, 76, 76, 75, 75, 73, 73, 71, 71, 83, 83, 78, 78, 83, 83, 75, 75, 78, 78, 71, 71, 73, 73, 75, 75, 78, 78, 76, 76, 75, 75, 73, 73, 71, 71, 77, 77, 71, 71, 74, 74, 71, 71, 74, 74, 71, 71, 77, 77, 71, 71, 80, 80, 71, 71, 74, 74, 71, 71, 74, 74, 71, 71, 77, 77, 71, 71, 69, 69, 73, 73, 78, 78, 80, 80, 81, 81, 78, 78, 73, 73, 71, 71, 69, 69, 73, 73, 78, 78, 80, 80, 81, 81, 78, 78, 75, 75, 73, 73, 72, 72, 75, 75, 72, 72, 75, 75, 78, 78, 75, 75, 78, 78, 75, 75, 72, 72, 75, 75, 72, 72, 75, 75, 78, 78, 75, 75, 78, 78, 75, 75, 76, 76, 75, 75, 73, 73, 76, 76, 75, 75, 76, 76, 78, 78, 75, 75, 76, 76, 75, 75, 73, 73, 71, 71, 69, 69, 68, 68, 66, 66, 64, 64, 63, 63, 69, 69, 71, 71, 69, 69, 71, 71, 69, 69, 71, 71, 69, 69, 63, 63, 69, 69, 71, 71, 69, 69, 71, 71, 69, 69, 71, 71, 69, 69, 64, 64, 68, 68, 74, 74, 73, 73, 74, 74, 68, 68, 74, 74, 68, 68, 64, 64, 68, 68, 74, 74, 73, 73, 74, 74, 68, 68, 74, 74, 68, 68, 64, 64, 69, 69, 73, 73, 71, 71, 73, 73, 69, 69, 73, 73, 69, 69, 64, 64, 69, 69, 73, 73, 71, 71, 73, 73, 69, 69, 73, 73, 69, 69, 64, 64, 75, 75, 81, 81, 80, 80, 81, 81, 75, 75, 81, 81, 75, 75, 64, 64, 75, 75, 81, 81, 80, 80, 81, 81, 75, 75, 81, 81, 75, 75, 64, 64, 71, 71, 80, 80, 78, 78, 80, 80, 76, 76, 75, 75, 73, 73, 71, 71, 69, 69, 68, 68, 78, 78, 76, 76, 75, 75, 73, 73, 71, 71, 70, 70, 66, 66, 73, 73, 75, 75, 76, 76, 73, 73, 75, 75, 76, 76, 70, 70, 66, 66, 73, 73, 75, 75, 76, 76, 73, 73, 75, 75, 76, 76, 69, 69, 66, 66, 71, 71, 73, 73, 75, 75, 71, 71, 73, 73, 75, 75, 69, 69, 66, 66, 71, 71, 73, 73, 75, 75, 71, 71, 73, 73, 75, 75, 69, 69, 66, 66, 71, 71, 75, 75, 78, 78, 82, 82, 83, 83, 66, 66, 68, 68, 69, 69, 71, 71, 73, 73, 75, 75, 76, 76, 78, 78, 75, 75, 71, 71, 73, 73, 75, 75, 76, 76, 78, 78, 80, 80, 81, 81, 78, 78, 75, 75, 76, 76, 78, 78, 80, 80, 81, 81, 83, 83, 84, 84, 83, 83, 82, 82, 83, 83, 83, 83, 81, 81, 80, 80, 81, 81, 81, 81, 78, 78, 75, 75, 73, 73, 71, 71, 66, 66, 68, 68, 69, 69, 71, 71, 66, 66, 71, 71, 75, 75, 78, 78, 80, 80, 81, 81, 78, 78, 80, 80, 76, 76, 71, 71, 69, 69, 68, 68, 64, 64, 66, 66, 68, 68, 71, 71, 64, 64, 68, 68, 71, 71, 76, 76, 78, 78, 80, 80, 76, 76, 82, 82, 79, 79, 78, 78, 79, 79, 79, 79, 78, 78, 77, 77, 78, 78, 78, 78, 76, 76, 75, 75, 76, 76, 76, 76, 73, 73, 70, 70, 68, 68, 66, 66, 70, 70, 73, 73, 76, 76, 78, 78, 82, 82, 83, 83, 82, 82, 83, 83, 78, 78, 75, 75, 73, 73, 75, 75, 78, 78, 71, 71, 75, 75, 66, 66, 71, 71, 70, 70, 68, 68, 66, 66, 76, 76, 75, 75, 73, 73, 71, 71, 81, 81, 80, 80, 78, 78, 76, 76, 75, 75, 73, 73, 71, 71, 81, 81, 80, 80, 78, 78, 76, 76, 75, 75, 73, 73, 71, 71, 69, 69, 80, 80, 78, 78, 76, 76, 75, 75, 73, 73, 71, 71, 69, 69, 68, 68, 78, 78, 76, 76, 75, 75, 73, 73, 71, 71, 69, 69, 68, 68, 66, 66, 76, 76, 75, 75, 73, 73, 75, 75, 78, 78, 71, 71, 78, 78, 73, 73, 78, 78, 75, 75, 78, 78, 76, 76, 78, 78, 73, 73, 78, 78, 75, 75, 78, 78, 71, 71, 78, 78, 76, 76, 78, 78, 73, 73, 78, 78, 75, 75, 78, 78, 71, 71, 78, 78, 76, 76, 78, 78, 73, 73, 78, 78, 75, 75, 78, 78, 71, 71, 78, 78, 73, 73, 78, 78, 75, 75, 78, 78, 76, 76, 78, 78, 78, 78, 78, 78, 80, 80, 78, 78, 71, 71, 78, 78, 78, 78, 78, 78, 80, 80, 78, 78, 81, 81, 78, 78, 71, 71, 78, 78, 80, 80, 78, 78, 81, 81, 78, 78, 83, 83, 78, 78, 80, 80, 78, 78, 81, 81, 78, 78, 80, 80, 78, 78, 81, 81, 78, 78, 78, 78, 78, 78, 80, 80, 78, 78, 78, 78, 78, 78, 80, 80, 78, 78, 76, 76, 78, 78, 78, 78, 78, 78, 76, 76, 78, 78, 78, 78, 78, 78, 75, 75, 78, 78, 76, 76, 78, 78, 75, 75, 78, 78, 76, 76, 78, 78, 73, 73, 78, 78, 75, 75, 78, 78, 71, 71, 73, 73, 74, 74, 71, 71, 75, 75, 71, 71, 76, 76, 71, 71, 77, 77, 71, 71, 78, 78, 71, 71, 79, 79, 71, 71, 80, 80, 71, 71, 81, 81, 71, 71, 82, 82, 71, 71, 83, 83, 71, 71, 84, 84, 71, 71, 85, 85, 71, 71, 86, 86, 71, 71, 87, 87, 71, 71, 88, 88, 80, 80, 71, 71, 80, 80, 88, 88, 80, 80, 88, 88, 80, 80, 88, 88, 80, 80, 71, 71, 80, 80, 88, 88, 80, 80, 88, 88, 80, 80, 88, 88, 78, 78, 71, 71, 78, 78, 88, 88, 78, 78, 88, 88, 78, 78, 88, 88, 78, 78, 71, 71, 78, 78, 88, 88, 78, 78, 88, 88, 78, 78, 87, 87, 81, 81, 71, 71, 81, 81, 87, 87, 81, 81, 87, 87, 81, 81, 87, 87, 81, 81, 71, 71, 81, 81, 87, 87, 81, 81, 87, 87, 81, 81, 64, 64, 80, 80, 88, 88]\n"
     ]
    }
   ],
   "source": [
    "noteon = []\n",
    "mid = MidiFile('midi-classique-flute/[Free-scores.com]_bach-johann-sebastian-suite-pour-violoncelle-sol-majeur-bwv-1007-pour-fla-traversia-11598.midi')\n",
    "for i, track in enumerate(mid.tracks):\n",
    "    #print('Track {}: {}'.format(i, track.name))\n",
    "    for msg in track:\n",
    "        if msg.type == 'note_on':\n",
    "            noteon.append(msg.note)\n",
    "print(noteon)"
   ]
  },
  {
   "cell_type": "code",
   "execution_count": 39,
   "metadata": {},
   "outputs": [
    {
     "name": "stdout",
     "output_type": "stream",
     "text": [
      "3869216308\n",
      "('Seed used for random values:', 3869216308)\n"
     ]
    }
   ],
   "source": [
    "def set_seed(seed=None):\n",
    "    \"\"\"Making the seed (for random values) variable if None\"\"\"\n",
    "\n",
    "    if seed is None:\n",
    "        import time\n",
    "        seed = int((time.time()*10**6) % 4294967295)\n",
    "        print(seed)\n",
    "    try:\n",
    "        np.random.seed(seed)\n",
    "        print(\"Seed used for random values:\", seed)\n",
    "    except:\n",
    "        print(\"!!! WARNING !!!: Seed was not set correctly.\")\n",
    "    return seed\n",
    "\n",
    "class Network(object):\n",
    "\n",
    "    def __init__(self, trainLen=2000, testLen=2000, initLen=100) :\n",
    "        self.initLen = initLen\n",
    "        self.trainLen = trainLen\n",
    "        self.testLen = testLen\n",
    "        self.input_text = noteon #The one to keep\n",
    "        #self.file = open(\"text/Pigs.txt\", \"r\").read() #to delete\n",
    "        #self.input_text = list(self.file) #to delete\n",
    "        self.resSize = 300\n",
    "        self.a = 0.3\n",
    "        self.spectral_radius = 1.25\n",
    "        self.input_scaling = 1.\n",
    "        self.reg =  1e-8\n",
    "        self.mode = 'prediction'\n",
    "        seed = None #42\n",
    "        set_seed(seed)\n",
    "        \n",
    "nw = Network()"
   ]
  },
  {
   "cell_type": "code",
   "execution_count": 40,
   "metadata": {},
   "outputs": [],
   "source": [
    "def notes(nw) :\n",
    "    nw.input_units, nw.output_units = dict(), dict()\n",
    "    for i, item in enumerate(set(nw.input_text)) : nw.input_units[item] = i\n",
    "    for i, item in enumerate(set(nw.input_text)) : nw.output_units[i] = item\n",
    "    print(\"\\nExisting notes in the music :\", sorted(nw.input_units),\n",
    "          \"\\nNumber of different notes :\", len(nw.input_units), \"\\n\")\n",
    "    return(nw)"
   ]
  },
  {
   "cell_type": "code",
   "execution_count": 41,
   "metadata": {},
   "outputs": [],
   "source": [
    "def convert_input(nw) :\n",
    "    print(\"Converting input into ID numbers...\")\n",
    "    nw.data = np.array([nw.input_units[i] for i in nw.input_text])\n",
    "    print(nw.data)\n",
    "    nw.inSize = nw.outSize = len(nw.input_units)\n",
    "    print(\"done.\")\n",
    "    return(nw)"
   ]
  },
  {
   "cell_type": "code",
   "execution_count": 42,
   "metadata": {},
   "outputs": [],
   "source": [
    "def binary_data(nw) :\n",
    "    print(\"Creating the input binary matrix...\")#, end=\" \")\n",
    "    nw.data_b = np.zeros((len(nw.input_text), len(nw.input_units)))\n",
    "    for i, item in enumerate(nw.data) :\n",
    "        nw.data_b[i][item] = 1\n",
    "    print(nw.data_b)\n",
    "    print(\"done.\\n\") \n",
    "    return(nw)"
   ]
  },
  {
   "cell_type": "markdown",
   "metadata": {},
   "source": [
    "## Initialisation du réseau"
   ]
  },
  {
   "cell_type": "code",
   "execution_count": 43,
   "metadata": {},
   "outputs": [],
   "source": [
    "def initialization(nw) :\n",
    "    print(\"\\nInitializing the network matrices...\")#, end=\" \")\n",
    "    set_seed()\n",
    "    nw.Win = (np.random.rand(nw.resSize,1+nw.inSize)-0.5) * nw.input_scaling\n",
    "    nw.W = np.random.rand(nw.resSize,nw.resSize)-0.5 \n",
    "    nw.X = np.zeros((1+nw.inSize+nw.resSize,nw.trainLen-nw.initLen))\n",
    "    nw.Ytarget = nw.data_b[nw.initLen+1:nw.trainLen+1].T\n",
    "    nw.x = np.zeros((nw.resSize,1))\n",
    "    print(\"done.\")\n",
    "    return(nw)\n",
    "\n",
    "def compute_spectral_radius(nw):\n",
    "    print('Computing spectral radius...')#,end=\" \")\n",
    "    rhoW = max(abs(linalg.eig(nw.W)[0]))\n",
    "    print('done.')\n",
    "    nw.W *= nw.spectral_radius / rhoW\n",
    "    return(nw)\n",
    "\n",
    "def train_network(nw) :\n",
    "    print('Training the network...')#, end=\" \")\n",
    "    percent = 0.1\n",
    "    for t in range(nw.trainLen):\n",
    "        percent = progression(percent, t, nw.trainLen)\n",
    "        nw.u = nw.data_b[t%len(nw.data)]\n",
    "        nw.x = (1-nw.a)*nw.x + nw.a*np.tanh( np.dot(nw.Win, np.concatenate((np.array([1]),nw.u)).reshape(len(nw.input_units)+1,1) ) + np.dot( nw.W, nw.x ) )\n",
    "        if t >= nw.initLen :\n",
    "            nw.X[:,t-nw.initLen] = np.concatenate((np.array([1]),nw.u,nw.x[:,0])).reshape(len(nw.input_units)+nw.resSize+1,1)[:,0]      \n",
    "    print('done.')\n",
    "    return(nw)\n",
    "\n",
    "def train_output(nw) :\n",
    "    print('Training the output...')#, end=\" \")\n",
    "    nw.X_T = nw.X.T\n",
    "    if nw.reg is not None:\n",
    "        nw.Wout = np.dot(np.dot(nw.Ytarget,nw.X_T), linalg.inv(np.dot(nw.X,nw.X_T) + \\\n",
    "            nw.reg*np.eye(1+nw.inSize+nw.resSize) ) )\n",
    "    else:\n",
    "        nw.Wout = np.dot(nw.Ytarget, linalg.pinv(nw.X) )   \n",
    "    print('done.')\n",
    "    return(nw)\n",
    "\n",
    "def test(nw) :\n",
    "    print('Testing the network... (', nw.mode, ' mode)')#, sep=\"\")#, end=\" \")\n",
    "    nw.Y = np.zeros((nw.outSize,nw.testLen))\n",
    "    nw.u = nw.data_b[nw.trainLen%len(nw.data)]\n",
    "    percent = 0.1\n",
    "    for t in range(nw.testLen):\n",
    "        percent = progression(percent, t, nw.trainLen)\n",
    "        nw.x = (1-nw.a)*nw.x + nw.a*np.tanh( np.dot(nw.Win, np.concatenate((np.array([1]),nw.u)).reshape(len(nw.input_units)+1,1)\\\n",
    "                                                   ) + np.dot(nw.W,nw.x ) )\n",
    "        nw.y = np.dot(nw.Wout, np.concatenate((np.array([1]),nw.u,nw.x[:,0])).reshape(len(nw.input_units)+nw.resSize+1,1)[:,0] )\n",
    "        nw.Y[:,t] = nw.y\n",
    "        if nw.mode == 'generative':\n",
    "            # generative mode:\n",
    "            nw.u = nw.y\n",
    "        elif nw.mode == 'prediction':\n",
    "            ## predictive mode:\n",
    "            nw.u = np.zeros(len(nw.input_units))\n",
    "            nw.u[nw.data[(nw.trainLen+t+1)%len(nw.data)]] = 1\n",
    "        else:\n",
    "            raise(Exception, \"ERROR: 'mode' was not set correctly.\")\n",
    "    print('done.\\n')\n",
    "    return(nw)\n",
    "\n",
    "def compute_error(nw) :\n",
    "    print(\"Computing the error...\")#, end=\" \")\n",
    "    errorLen = 50\n",
    "    mse = sum( np.square( nw.data[(nw.trainLen+1)%len(nw.data):(nw.trainLen+errorLen+1)%len(nw.data)] - nw.Y[0,0:errorLen] ) ) / errorLen\n",
    "    print('MSE = ' + str( mse ))\n",
    "    return(nw)"
   ]
  },
  {
   "cell_type": "code",
   "execution_count": 44,
   "metadata": {},
   "outputs": [],
   "source": [
    "def convert_output(nw) :\n",
    "    nw.output_text = []\n",
    "    print(\"Converting the output...\")\n",
    "    for i in range(len(nw.Y.T)) :\n",
    "        nw.output_text.append(nw.output_units[nw.Y.T[i].argmax()])\n",
    "    print(\"done.\")\n",
    "    return(nw.output_text)"
   ]
  },
  {
   "cell_type": "code",
   "execution_count": 45,
   "metadata": {},
   "outputs": [],
   "source": [
    "def progression(percent, i, total) :\n",
    "    if i == 0 :\n",
    "        print(\"Progress :\")\n",
    "        percent = 0.1\n",
    "    elif (i/total) > percent :\n",
    "        print(round(percent*100))\n",
    "        print(\"%\")\n",
    "        percent += 0.1\n",
    "    if total-i == 1 :\n",
    "        print(\"100%\")\n",
    "    return(percent)"
   ]
  },
  {
   "cell_type": "code",
   "execution_count": 46,
   "metadata": {},
   "outputs": [],
   "source": [
    "def compute_network(nw) :\n",
    "    nw = notes(nw)\n",
    "    nw = convert_input(nw)\n",
    "    nw = binary_data(nw)\n",
    "    nw = initialization(nw)\n",
    "    nw = compute_spectral_radius(nw)\n",
    "    nw = train_network(nw)\n",
    "    nw = train_output(nw)\n",
    "    nw = test(nw) \n",
    "    #nw = compute_error(nw)\n",
    "    nw = convert_output(nw)\n",
    "    return(nw)"
   ]
  },
  {
   "cell_type": "markdown",
   "metadata": {},
   "source": [
    "## Définition des paramètres du réseau"
   ]
  },
  {
   "cell_type": "code",
   "execution_count": 79,
   "metadata": {},
   "outputs": [
    {
     "name": "stdout",
     "output_type": "stream",
     "text": [
      "('InitLen:', 50, 'TrainLen:', 100, 'TestLen:', 100)\n",
      "('ResSize:', 100, 'Spectral Radius:', 1.25, 'Leak Rate:', 0.3)\n",
      "('\\nExisting notes in the music :', [61, 63, 64, 66, 68, 69, 70, 71, 72, 73, 74, 75, 76, 77, 78, 79, 80, 81, 82, 83, 84, 85, 86, 87, 88], '\\nNumber of different notes :', 25, '\\n')\n",
      "Converting input into ID numbers...\n",
      "[ 2  2  7 ... 16 24 24]\n",
      "done.\n",
      "Creating the input binary matrix...\n",
      "[[0. 0. 1. ... 0. 0. 0.]\n",
      " [0. 0. 1. ... 0. 0. 0.]\n",
      " [0. 0. 0. ... 0. 0. 0.]\n",
      " ...\n",
      " [0. 0. 0. ... 0. 0. 0.]\n",
      " [0. 0. 0. ... 0. 0. 1.]\n",
      " [0. 0. 0. ... 0. 0. 1.]]\n",
      "done.\n",
      "\n",
      "\n",
      "Initializing the network matrices...\n",
      "1653470371\n",
      "('Seed used for random values:', 1653470371)\n",
      "done.\n",
      "Computing spectral radius...\n",
      "done.\n",
      "Training the network...\n",
      "Progress :\n",
      "100%\n",
      "done.\n",
      "Training the output...\n",
      "done.\n",
      "('Testing the network... (', 'prediction', ' mode)')\n",
      "Progress :\n",
      "100%\n",
      "done.\n",
      "\n",
      "Converting the output...\n",
      "done.\n"
     ]
    }
   ],
   "source": [
    "select_mode = ToggleButtons(description='Mode:',\n",
    "    options=['prediction', 'generative'])\n",
    "var1 = FloatSlider(value=100, min=0, max=1000, step=1, description='resSize')\n",
    "var2 = FloatSlider(value=50, min=0, max=2000, step=1, description='initLen')\n",
    "var3 = FloatSlider(value=100, min=0, max=5000, step=1, description='trainLen')\n",
    "var4 = FloatSlider(value=100, min=0, max=5000, step=1, description='testLen')\n",
    "var5 = FloatSlider(value=1.25, min=0, max=10, step=0.05, description='spectral radius')\n",
    "var6 = FloatSlider(value=0.3, min=0, max=1, step=0.01, description='leak rate')\n",
    "valid = Button(description='Valider')\n",
    "\n",
    "def record_values(_) :\n",
    "    clear_output()\n",
    "    nw.mode=select_mode.value\n",
    "    nw.resSize=int(var1.value)\n",
    "    nw.initLen=int(var2.value)\n",
    "    nw.trainLen=int(var3.value)\n",
    "    nw.testLen=int(var4.value)\n",
    "    nw.spectral_radius=float(var5.value)\n",
    "    nw.a=float(var6.value)\n",
    "    print(\"InitLen:\", nw.initLen, \"TrainLen:\", nw.trainLen, \"TestLen:\", nw.testLen) \n",
    "    print(\"ResSize:\", nw.resSize, \"Spectral Radius:\", nw.spectral_radius, \"Leak Rate:\", nw.a)\n",
    "    compute_network(nw)\n",
    "    return(nw)\n",
    "\n",
    "display(select_mode)\n",
    "display(var1)\n",
    "display(var2)\n",
    "display(var3)\n",
    "display(var4)\n",
    "display(var5)\n",
    "display(var6)\n",
    "display(valid)\n",
    "\n",
    "valid.on_click(record_values)"
   ]
  },
  {
   "cell_type": "code",
   "execution_count": 80,
   "metadata": {},
   "outputs": [
    {
     "data": {
      "application/vnd.jupyter.widget-view+json": {
       "model_id": "e6966278bb4b42979ecb1281db67f8b0",
       "version_major": 2,
       "version_minor": 0
      },
      "text/plain": [
       "Button(description=u'Show the output!', style=ButtonStyle())"
      ]
     },
     "metadata": {},
     "output_type": "display_data"
    },
    {
     "name": "stdout",
     "output_type": "stream",
     "text": [
      "[75, 81, 75, 75, 75, 75, 81, 81, 81, 81, 81, 81, 81, 81, 81, 81, 81, 81, 81, 75, 81, 81, 81, 81, 81, 81, 81, 81, 81, 81, 81, 81, 81, 81, 81, 75, 81, 81, 81, 81, 81, 81, 81, 81, 81, 81, 81, 81, 75, 75, 75, 75, 75, 75, 75, 75, 75, 75, 75, 75, 75, 75, 75, 75, 75, 75, 75, 75, 75, 75, 75, 75, 75, 75, 75, 75, 75, 75, 75, 75, 75, 75, 75, 75, 75, 75, 75, 75, 75, 75, 75, 75, 75, 75, 75, 75, 75, 81, 81, 81]\n"
     ]
    }
   ],
   "source": [
    "valid3 = Button(description='Show the output!')\n",
    "\n",
    "def show_output(_) :\n",
    "    print(nw.output_text)\n",
    "\n",
    "display(valid3)\n",
    "valid3.on_click(show_output)"
   ]
  },
  {
   "cell_type": "code",
   "execution_count": 49,
   "metadata": {},
   "outputs": [
    {
     "name": "stdout",
     "output_type": "stream",
     "text": [
      "1312\n"
     ]
    }
   ],
   "source": [
    "print(len(nw.data))"
   ]
  },
  {
   "cell_type": "code",
   "execution_count": 81,
   "metadata": {},
   "outputs": [],
   "source": [
    "def new_file():\n",
    "    mid=MidiFile()\n",
    "    track=MidiTrack()\n",
    "    mid.tracks.append(track)\n",
    "    track.append(Message('program_change', program=76, time=0))\n",
    "    for n in nw.output_text:\n",
    "        track.append(Message('note_on',note=n,velocity=64,time=128))\n",
    "        track.append(Message('note_off',note=n,velocity=64,time=128))\n",
    "    mid.save('monMorceau.mid')"
   ]
  },
  {
   "cell_type": "code",
   "execution_count": 82,
   "metadata": {},
   "outputs": [],
   "source": [
    "new_file()"
   ]
  },
  {
   "cell_type": "code",
   "execution_count": null,
   "metadata": {},
   "outputs": [],
   "source": []
  }
 ],
 "metadata": {
  "kernelspec": {
   "display_name": "Python 2",
   "language": "python",
   "name": "python2"
  },
  "language_info": {
   "codemirror_mode": {
    "name": "ipython",
    "version": 2
   },
   "file_extension": ".py",
   "mimetype": "text/x-python",
   "name": "python",
   "nbconvert_exporter": "python",
   "pygments_lexer": "ipython2",
   "version": "2.7.15rc1"
  }
 },
 "nbformat": 4,
 "nbformat_minor": 2
}
