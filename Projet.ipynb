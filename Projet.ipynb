{
 "cells": [
  {
   "cell_type": "markdown",
   "metadata": {},
   "source": [
    "# Projet : Apprentissage pour une robotique autonome\n",
    "# <i>Génération et prédiction de fichier midi</i>\n",
    "\n",
    "<b>Etudiants :</b> Kim Cottrant, Nina Docteur, Gaëlle Lannuzel"
   ]
  },
  {
   "cell_type": "markdown",
   "metadata": {},
   "source": [
    "## Introduction\n",
    "\n",
    "Ce projet s'inscrit dans le cadre du module \"Apprentissage pour une robotique autonome\" de la spécialisation robotique de l'ENSEIRB-MATMECA et de l'ENSC. "
   ]
  },
  {
   "cell_type": "markdown",
   "metadata": {},
   "source": [
    "## Sujet du projet\n",
    "\n",
    "L'objectif de ce projet est de prédire et générer des fichiers midi à partir d'un corpus choisi de fichiers midi.\n",
    "Ces fichiers, utilisés pour l'apprentissage, sont joués par un instrument unique et sans accord.\n",
    "\n",
    "Deux sous-tâches de prédiction/génération peuvent être distinguées :\n",
    "<ul><li> la prédiction/génération sur la hauteur des notes (pitch)</li>\n",
    "    <li> la prédiction/génération sur la durée des notes (rythmique)</li>\n",
    "</ul>\n"
   ]
  },
  {
   "cell_type": "markdown",
   "metadata": {},
   "source": [
    "## Réalisation\n",
    "\n",
    "Ci-dessous le code commenté permettant la génération des fichiers midi :"
   ]
  },
  {
   "cell_type": "markdown",
   "metadata": {},
   "source": [
    "### Importation des librairies nécessaires"
   ]
  },
  {
   "cell_type": "code",
   "execution_count": 1,
   "metadata": {},
   "outputs": [],
   "source": [
    "import numpy as np\n",
    "import matplotlib.pyplot as plt\n",
    "from mido import MidiFile, MidiTrack, Message, MetaMessage\n",
    "from scipy import linalg\n",
    "from ipywidgets import *\n",
    "from IPython.display import *\n",
    "import os\n",
    "\n",
    "#Pour afficher les courbes dans le notebook\n",
    "%matplotlib inline"
   ]
  },
  {
   "cell_type": "markdown",
   "metadata": {},
   "source": [
    "### Récupération des données"
   ]
  },
  {
   "cell_type": "markdown",
   "metadata": {},
   "source": [
    "Le corpus de données contient des fichiers midi de musique classique. \n",
    "Afin de s'assurer que les notes sont bien jouées une à la fois, le corpus est constité uniquement de morceaux de flûte (instrument pour lequel on ne peut réaliser d'accord). Les fichiers du corpus utilisé sont présents dans le dossier <i>midi-classique-flute</i>.\n",
    "\n",
    "On récupère ainsi la hauteur et la durée de chaque note (note_on).\n",
    "Le jeu de données ainsi récupéré est stocké dans la liste <b>noteon</b>, dont les composants sont des tuples comportant en premier élément la valeur de la hauteur de la note, et en second sa durée.\n",
    "\n",
    "<i>(des lignes sont à décommenter pour utiliser l'ensemble des fichiers du corpus)</i>"
   ]
  },
  {
   "cell_type": "code",
   "execution_count": 2,
   "metadata": {},
   "outputs": [
    {
     "name": "stdout",
     "output_type": "stream",
     "text": [
      "3528\n"
     ]
    }
   ],
   "source": [
    "noteon = []\n",
    "note=[]\n",
    "duree=[]\n",
    "musiclist = os.listdir('midi-classique-flute')\n",
    "\n",
    "#importation du fichier midi désiré\n",
    "for musicfile in musiclist:\n",
    "    mid = MidiFile('midi-classique-flute/[Free-scores.com]_ali-choobdar-night-the-lotus-66972.midi')\n",
    "    #newfile = 'midi-classique-flute/' + musicfile # à décommenter pour utiliser pour les fichiers du corpus\n",
    "    #print(newfile) \n",
    "    #mid = MidiFile(newfile) # à décommenter pour utiliser pour les fichiers du corpus\n",
    "    for i, track in enumerate(mid.tracks):\n",
    "        for msg in track:\n",
    "            if msg.type == 'note_on':\n",
    "                newNote = (msg.note,msg.time)\n",
    "                #on ajoute chaque note dans le tableau noteon (hauteur + durée)\n",
    "                noteon.append(newNote)\n",
    "                note.append(msg.note)\n",
    "                duree.append(msg.time)\n",
    "print(len(noteon))\n"
   ]
  },
  {
   "cell_type": "markdown",
   "metadata": {},
   "source": [
    "### Initialisation de l'aléatoire et définition du réseau"
   ]
  },
  {
   "cell_type": "markdown",
   "metadata": {},
   "source": [
    "#### Initialisation pseudo-aléatoire\n",
    "\n",
    "La fonction <b>set_seed</b> permet de générer une valeur pseudo-aléatoire qui assure que le lancement à plusieurs reprises de l'apprentissage du réseau ne conduise pas au même résultat."
   ]
  },
  {
   "cell_type": "code",
   "execution_count": 3,
   "metadata": {},
   "outputs": [],
   "source": [
    "def set_seed(seed=None):\n",
    "    \"\"\"Making the seed (for random values) variable if None\"\"\"\n",
    "\n",
    "    if seed is None:\n",
    "        import time\n",
    "        seed = int((time.time()*10**6) % 4294967295)\n",
    "        print(seed)\n",
    "    try:\n",
    "        np.random.seed(seed)\n",
    "        print(\"Seed used for random values:\", seed)\n",
    "    except:\n",
    "        print(\"!!! WARNING !!!: Seed was not set correctly.\")\n",
    "    return seed"
   ]
  },
  {
   "cell_type": "markdown",
   "metadata": {},
   "source": [
    "#### Classe du réseau\n",
    "On définit ici la classe du réseau :"
   ]
  },
  {
   "cell_type": "code",
   "execution_count": 4,
   "metadata": {},
   "outputs": [
    {
     "name": "stdout",
     "output_type": "stream",
     "text": [
      "771208349\n",
      "Seed used for random values: 771208349\n"
     ]
    }
   ],
   "source": [
    "class Network(object):\n",
    "\n",
    "    def __init__(self, trainLen=2000, testLen=2000, initLen=100) :\n",
    "        self.initLen = initLen\n",
    "        self.trainLen = trainLen\n",
    "        self.testLen = testLen\n",
    "        # données d'entrée :\n",
    "        self.input_text = noteon #The one to keep\n",
    "        self.resSize = 300\n",
    "        self.a = 0.3\n",
    "        self.spectral_radius = 1.25\n",
    "        self.input_scaling = 1.\n",
    "        self.reg =  1e-8\n",
    "        self.mode = 'prediction'\n",
    "        seed = None #42\n",
    "        set_seed(seed)\n",
    "        \n",
    "nw = Network()"
   ]
  },
  {
   "cell_type": "markdown",
   "metadata": {},
   "source": [
    "#### Description de la classe issue de [neuronalX/Reservoir-Jupyter](https://github.com/neuronalX/Reservoir-Jupyter/blob/master/Minimal_ESN_-_FR.ipynb)\n",
    "\n",
    "Une instance de cette classe contiendra les paramètres modifiables suivants :\n",
    "\n",
    "<ul><li>initLen : nombre d'itérations pour l'initalisation. Durant cette phase, il ne se passe rien : cela permet de commencer l'entraînement avec une valeur intermédiaire plutôt qu'avec une des premières valeurs des données ;</li>\n",
    "    <li>trainLen : nombre d'itérations pour l'entraînement. Le réseau va modifier les poids entre le réservoir et la sortie de façon à pouvoir prédire ou générer une série ;</li>\n",
    "    <li>testLen : nombre d'itérations pour le test ;</li>\n",
    "    <li>data : fichier de données. Le fichier proposé ici contient les 10 000 premières itérations d'une série chaotique de Mackey-Glass. Une série chaotique est une suite issue d'une fonction, pour laquelle une modification minime du nombre de départ a des conséquences importantes sur les termes suivants.</li>\n",
    "    \n",
    "<p style=\"text-align:justify\">De base, notre réservoir contient 300 neurones (<b>resSize</b>), l'entrée et la sortie sont de taille 1 (<b>inSize et outSize</b>). Cela nous donne un réseau sous cette forme : <img src=\"Reservoir.png\"/>\n",
    "\n",
    "Les neurones en entrée sont connectés aux neurones du réservoir. On représente donc les poids de chacune des connexions par une matrice <b style=\"color:#99cc00\">W<sub>in</sub></b> (de taille inSize × resSize). De même, les connexions des neurones de la sortie sont représentées par la matrice <b style=\"color:#ff0000\">W<sub>out</sub></b> (de taille resSize × outSize). Enfin, dans le réservoir, chaque neurone est lié à tous les autres neurones du réservoir (matrice <b style=\"color:#ffcc00\">W</b>, de taille resSize × resSize).</p>\n",
    "\n",
    "<p style=\"text-align:justify\">Les valeurs des neurones du réservoir sont enregistrées au cours du temps dans une matrice <b style=\"color:#ffcc00\">x</b> (de taille resSize × (initLen+trainLen)). La matrice <b style=\"color:#00baff\">X</b>, quant à elle, contient les valeurs du biais (<b style=\"color:#99cc00\">1</b>), de l'entrée (<b style=\"color:#99cc00\">u</b>), et des neurones du réservoir (<b style=\"color:#ffcc00\">x</b>) au cours du temps (t). La matrice est ainsi de taille (1+inSize+resSize)×(initLen+trainLen). Enfin, on stocke les valeurs du neurone de sortie au cours du temps dans une matrice <b style=\"color:#ff0000\">y</b>, de taille 1×(initLen+trainLen).</p>\n",
    "\n",
    "<p style=\"text-align:justify\">La matrice <b style=\"color:#a7008a\">Y<sub>target</sub></b> correspond au valeurs « cibles » : il s'agit des valeurs de <b>data</b> situées après les itérations d'initialisation et d'entrainement. On va pouvoir comparer ces valeurs avec les sorties du réservoir.</p>"
   ]
  },
  {
   "cell_type": "markdown",
   "metadata": {},
   "source": [
    "#### Fonction de définition des entrées\n",
    "\n",
    "La fonction <b>notes</b> permet de définir les entrées de notre réseau de neurone :"
   ]
  },
  {
   "cell_type": "code",
   "execution_count": 5,
   "metadata": {},
   "outputs": [],
   "source": [
    "def notes(nw) :\n",
    "    nw.input_units, nw.output_units = dict(), dict()\n",
    "    for i, item in enumerate(set(nw.input_text)) : nw.input_units[item] = i\n",
    "    for i, item in enumerate(set(nw.input_text)) : nw.output_units[i] = item\n",
    "    print(\"\\nExisting notes in the music :\", sorted(nw.input_units),\n",
    "          \"\\nNumber of notes :\", len(nw.input_units), \"\\n\")\n",
    "    return(nw)"
   ]
  },
  {
   "cell_type": "markdown",
   "metadata": {},
   "source": [
    "Les fonctions suivantes permettent de convertir les données pour les fournir en entrée en apprentissage au réseau : "
   ]
  },
  {
   "cell_type": "code",
   "execution_count": 6,
   "metadata": {},
   "outputs": [],
   "source": [
    "def convert_input(nw) :\n",
    "    print(\"Converting input into ID numbers...\")\n",
    "    nw.data = np.array([nw.input_units[i] for i in nw.input_text])\n",
    "    print(nw.data)\n",
    "    nw.inSize = nw.outSize = len(nw.input_units)\n",
    "    print(\"done.\")\n",
    "    return(nw)"
   ]
  },
  {
   "cell_type": "code",
   "execution_count": 7,
   "metadata": {},
   "outputs": [],
   "source": [
    "def binary_data(nw) :\n",
    "    print(\"Creating the input binary matrix...\")#, end=\" \")\n",
    "    nw.data_b = np.zeros((len(nw.input_text), len(nw.input_units)))\n",
    "    for i, item in enumerate(nw.data) :\n",
    "        nw.data_b[i][item] = 1\n",
    "    print(nw.data_b)\n",
    "    print(\"done.\\n\") \n",
    "    return(nw)"
   ]
  },
  {
   "cell_type": "markdown",
   "metadata": {},
   "source": [
    "### Initialisation du réseau\n",
    "\n",
    "Les fonctions ci-après permettent de réaliser l'initialisation, l'entraînement et le test du réseau :"
   ]
  },
  {
   "cell_type": "code",
   "execution_count": 8,
   "metadata": {},
   "outputs": [],
   "source": [
    "def initialization(nw) :\n",
    "    print(\"\\nInitializing the network matrices...\")#, end=\" \")\n",
    "    set_seed()\n",
    "    nw.Win = (np.random.rand(nw.resSize,1+nw.inSize)-0.5) * nw.input_scaling\n",
    "    nw.W = np.random.rand(nw.resSize,nw.resSize)-0.5 \n",
    "    nw.X = np.zeros((1+nw.inSize+nw.resSize,nw.trainLen-nw.initLen))\n",
    "    nw.Ytarget = nw.data_b[nw.initLen+1:nw.trainLen+1].T\n",
    "    nw.x = np.zeros((nw.resSize,1))\n",
    "    print(\"done.\")\n",
    "    return(nw)\n",
    "\n",
    "def compute_spectral_radius(nw):\n",
    "    print('Computing spectral radius...')#,end=\" \")\n",
    "    rhoW = max(abs(linalg.eig(nw.W)[0]))\n",
    "    print('done.')\n",
    "    nw.W *= nw.spectral_radius / rhoW\n",
    "    return(nw)\n",
    "\n",
    "def train_network(nw) :\n",
    "    print('Training the network...')#, end=\" \")\n",
    "    percent = 0.1\n",
    "    for t in range(nw.trainLen):\n",
    "        percent = progression(percent, t, nw.trainLen)\n",
    "        nw.u = nw.data_b[t%len(nw.data)]\n",
    "        nw.x = (1-nw.a)*nw.x + nw.a*np.tanh( np.dot(nw.Win, np.concatenate((np.array([1]),nw.u)).reshape(len(nw.input_units)+1,1) ) + np.dot( nw.W, nw.x ) )\n",
    "        if t >= nw.initLen :\n",
    "            nw.X[:,t-nw.initLen] = np.concatenate((np.array([1]),nw.u,nw.x[:,0])).reshape(len(nw.input_units)+nw.resSize+1,1)[:,0]      \n",
    "    print('done.')\n",
    "    return(nw)\n",
    "\n",
    "def train_output(nw) :\n",
    "    print('Training the output...')#, end=\" \")\n",
    "    nw.X_T = nw.X.T\n",
    "    if nw.reg is not None:\n",
    "        nw.Wout = np.dot(np.dot(nw.Ytarget,nw.X_T), linalg.inv(np.dot(nw.X,nw.X_T) + \\\n",
    "            nw.reg*np.eye(1+nw.inSize+nw.resSize) ) )\n",
    "    else:\n",
    "        nw.Wout = np.dot(nw.Ytarget, linalg.pinv(nw.X) )   \n",
    "    print('done.')\n",
    "    return(nw)\n",
    "\n",
    "def test(nw) :\n",
    "    print('Testing the network... (', nw.mode, ' mode)')#, sep=\"\")#, end=\" \")\n",
    "    nw.Y = np.zeros((nw.outSize,nw.testLen))\n",
    "    nw.u = nw.data_b[nw.trainLen%len(nw.data)]\n",
    "    percent = 0.1\n",
    "    for t in range(nw.testLen):\n",
    "        percent = progression(percent, t, nw.trainLen)\n",
    "        nw.x = (1-nw.a)*nw.x + nw.a*np.tanh( np.dot(nw.Win, np.concatenate((np.array([1]),nw.u)).reshape(len(nw.input_units)+1,1)\\\n",
    "                                                   ) + np.dot(nw.W,nw.x ) )\n",
    "        nw.y = np.dot(nw.Wout, np.concatenate((np.array([1]),nw.u,nw.x[:,0])).reshape(len(nw.input_units)+nw.resSize+1,1)[:,0] )\n",
    "        nw.Y[:,t] = nw.y\n",
    "        if nw.mode == 'generative':\n",
    "            # generative mode:\n",
    "            nw.u = nw.y\n",
    "        elif nw.mode == 'prediction':\n",
    "            ## predictive mode:\n",
    "            nw.u = np.zeros(len(nw.input_units))\n",
    "            nw.u[nw.data[(nw.trainLen+t+1)%len(nw.data)]] = 1\n",
    "        else:\n",
    "            raise(Exception, \"ERROR: 'mode' was not set correctly.\")\n",
    "    print('done.\\n')\n",
    "    return(nw)\n",
    "\n",
    "def compute_error(nw) :\n",
    "    print(\"Computing the error...\")#, end=\" \")\n",
    "    errorLen = 50\n",
    "    mse = sum( np.square( nw.data[(nw.trainLen+1)%len(nw.data):(nw.trainLen+errorLen+1)%len(nw.data)] - nw.Y[0,0:errorLen] ) ) / errorLen\n",
    "    print('MSE = ' + str( mse ))\n",
    "    return(nw)"
   ]
  },
  {
   "cell_type": "code",
   "execution_count": 9,
   "metadata": {},
   "outputs": [],
   "source": [
    "def convert_output(nw) :\n",
    "    nw.output_text = []\n",
    "    print(\"Converting the output...\")\n",
    "    for i in range(len(nw.Y.T)) :\n",
    "        nw.output_text.append(nw.output_units[nw.Y.T[i].argmax()])\n",
    "    print(\"done.\")\n",
    "    return(nw.output_text)"
   ]
  },
  {
   "cell_type": "code",
   "execution_count": 10,
   "metadata": {},
   "outputs": [],
   "source": [
    "def progression(percent, i, total) :\n",
    "    if i == 0 :\n",
    "        print(\"Progress :\")\n",
    "        percent = 0.1\n",
    "    elif (i/total) > percent :\n",
    "        print(round(percent*100))\n",
    "        print(\"%\")\n",
    "        percent += 0.1\n",
    "    if total-i == 1 :\n",
    "        print(\"100%\")\n",
    "    return(percent)"
   ]
  },
  {
   "cell_type": "code",
   "execution_count": 11,
   "metadata": {},
   "outputs": [],
   "source": [
    "def compute_network(nw) :\n",
    "    nw = notes(nw)\n",
    "    nw = convert_input(nw)\n",
    "    nw = binary_data(nw)\n",
    "    nw = initialization(nw)\n",
    "    nw = compute_spectral_radius(nw)\n",
    "    nw = train_network(nw)\n",
    "    nw = train_output(nw)\n",
    "    nw = test(nw) \n",
    "    #nw = compute_error(nw)\n",
    "    nw = convert_output(nw)\n",
    "    return(nw)"
   ]
  },
  {
   "cell_type": "markdown",
   "metadata": {},
   "source": [
    "### Définition des paramètres du réseau "
   ]
  },
  {
   "cell_type": "markdown",
   "metadata": {},
   "source": [
    "Définition de l'interface pour pouvoir rentrer les paramètres de notre réseau. "
   ]
  },
  {
   "cell_type": "code",
   "execution_count": 12,
   "metadata": {},
   "outputs": [
    {
     "name": "stdout",
     "output_type": "stream",
     "text": [
      "InitLen: 2000 TrainLen: 3000 TestLen: 5000\n",
      "ResSize: 1000 Spectral Radius: 1.25 Leak Rate: 0.3\n",
      "\n",
      "Existing notes in the music : [(60, 44), (60, 984), (62, 27), (62, 40), (62, 44), (62, 70), (62, 1046), (64, 40), (64, 44), (64, 984), (64, 1046), (65, 1), (65, 5), (65, 40), (65, 44), (65, 70), (65, 984), (65, 1046), (66, 40), (66, 44), (67, 1), (67, 5), (67, 40), (67, 44), (67, 70), (67, 494), (67, 1018), (67, 1046), (68, 40), (68, 984), (68, 1046), (69, 1), (69, 5), (69, 40), (69, 44), (69, 49), (69, 486), (70, 5), (70, 40), (70, 44), (70, 70), (70, 469), (70, 978), (70, 984), (72, 40), (72, 44), (72, 70), (73, 40), (74, 40), (74, 1046), (75, 40), (75, 41), (75, 44), (75, 984), (76, 17), (76, 40), (76, 44), (76, 49), (77, 40), (77, 44), (78, 40), (78, 44), (79, 40), (79, 44), (79, 70), (81, 40), (81, 44), (81, 984), (82, 39), (82, 40), (82, 44), (82, 1046), (84, 44), (84, 68)] \n",
      "Number of notes : 74 \n",
      "\n",
      "Converting input into ID numbers...\n",
      "[13 11 73 ... 39 26 14]\n",
      "done.\n",
      "Creating the input binary matrix...\n",
      "[[0. 0. 0. ... 0. 0. 0.]\n",
      " [0. 0. 0. ... 0. 0. 0.]\n",
      " [0. 0. 0. ... 0. 0. 1.]\n",
      " ...\n",
      " [0. 0. 0. ... 0. 0. 0.]\n",
      " [0. 0. 0. ... 0. 0. 0.]\n",
      " [0. 0. 0. ... 0. 0. 0.]]\n",
      "done.\n",
      "\n",
      "\n",
      "Initializing the network matrices...\n",
      "802136193\n",
      "Seed used for random values: 802136193\n",
      "done.\n",
      "Computing spectral radius...\n",
      "done.\n",
      "Training the network...\n",
      "Progress :\n",
      "10\n",
      "%\n",
      "20\n",
      "%\n",
      "30\n",
      "%\n",
      "40\n",
      "%\n",
      "50\n",
      "%\n",
      "60\n",
      "%\n",
      "70\n",
      "%\n",
      "80\n",
      "%\n",
      "90\n",
      "%\n",
      "100%\n",
      "done.\n",
      "Training the output...\n",
      "done.\n",
      "Testing the network... ( prediction  mode)\n",
      "Progress :\n",
      "10\n",
      "%\n",
      "20\n",
      "%\n",
      "30\n",
      "%\n",
      "40\n",
      "%\n",
      "50\n",
      "%\n",
      "60\n",
      "%\n",
      "70\n",
      "%\n",
      "80\n",
      "%\n",
      "90\n",
      "%\n",
      "100%\n",
      "100\n",
      "%\n",
      "110\n",
      "%\n",
      "120\n",
      "%\n",
      "130\n",
      "%\n",
      "140\n",
      "%\n",
      "150\n",
      "%\n",
      "160\n",
      "%\n",
      "done.\n",
      "\n",
      "Converting the output...\n",
      "done.\n"
     ]
    }
   ],
   "source": [
    "select_mode = ToggleButtons(description='Mode:',\n",
    "    options=['prediction', 'generative'])\n",
    "var1 = FloatText(value=1000, description='resSize')\n",
    "var2 = FloatText(value=2000, description='initLen')\n",
    "var3 = FloatText(value=3000, description='trainLen')\n",
    "var4 = FloatText(value=5000, description='testLen')\n",
    "var5 = FloatSlider(value=1.25, min=0, max=10, step=0.05, description='spectral radius')\n",
    "var6 = FloatSlider(value=0.3, min=0, max=1, step=0.01, description='leak rate')\n",
    "valid = Button(description='Valider')\n",
    "\n",
    "def record_values(_) :\n",
    "    clear_output()\n",
    "    nw.mode=select_mode.value\n",
    "    nw.resSize=int(var1.value)\n",
    "    nw.initLen=int(var2.value)\n",
    "    nw.trainLen=int(var3.value)\n",
    "    nw.testLen=int(var4.value)\n",
    "    nw.spectral_radius=float(var5.value)\n",
    "    nw.a=float(var6.value)\n",
    "    print(\"InitLen:\", nw.initLen, \"TrainLen:\", nw.trainLen, \"TestLen:\", nw.testLen) \n",
    "    print(\"ResSize:\", nw.resSize, \"Spectral Radius:\", nw.spectral_radius, \"Leak Rate:\", nw.a)\n",
    "    compute_network(nw)\n",
    "    return(nw)\n",
    "\n",
    "display(select_mode)\n",
    "display(var1)\n",
    "display(var2)\n",
    "display(var3)\n",
    "display(var4)\n",
    "display(var5)\n",
    "display(var6)\n",
    "display(valid)\n",
    "\n",
    "valid.on_click(record_values)"
   ]
  },
  {
   "cell_type": "markdown",
   "metadata": {},
   "source": [
    "## Résultats\n",
    "\n",
    "### Affichage des résultats en sortie de réseau"
   ]
  },
  {
   "cell_type": "markdown",
   "metadata": {},
   "source": [
    "En cliquant sur le bouton \"Show the output\", nous avons accès aux sorties générés par notre réseau."
   ]
  },
  {
   "cell_type": "code",
   "execution_count": 13,
   "metadata": {},
   "outputs": [
    {
     "data": {
      "application/vnd.jupyter.widget-view+json": {
       "model_id": "410c1c86f7c349f2a6d4f110dfe320c7",
       "version_major": 2,
       "version_minor": 0
      },
      "text/plain": [
       "Button(description='Show the output!', style=ButtonStyle())"
      ]
     },
     "metadata": {},
     "output_type": "display_data"
    },
    {
     "name": "stdout",
     "output_type": "stream",
     "text": [
      "[(62, 44), (64, 40), (66, 40), (62, 44), (62, 27), (64, 1046), (65, 984), (70, 70), (79, 44), (76, 40), (74, 40), (81, 44), (82, 40), (79, 40), (77, 44), (76, 40), (78, 40), (67, 44), (65, 1046), (64, 984), (67, 70), (65, 40), (65, 1), (68, 40), (79, 44), (77, 40), (76, 40), (74, 40), (66, 40), (67, 40), (64, 44), (62, 40), (66, 40), (64, 44), (62, 1046), (65, 70), (67, 1046), (70, 984), (65, 70), (77, 44), (74, 40), (72, 40), (70, 40), (74, 40), (79, 40), (81, 44), (79, 40), (77, 40), (76, 40), (74, 40), (76, 44), (81, 40), (79, 40), (81, 44), (79, 40), (77, 40), (76, 40), (69, 40), (67, 40), (65, 40), (64, 40), (60, 44), (64, 1046), (68, 984), (72, 70), (70, 40), (69, 40), (67, 40), (65, 40), (65, 5), (68, 1046), (70, 984), (67, 70), (66, 44), (69, 49), (70, 40), (72, 40), (74, 40), (73, 40), (69, 40), (78, 44), (77, 40), (81, 44), (82, 40), (79, 40), (84, 44), (82, 1046), (81, 984), (84, 68), (82, 39), (81, 40), (79, 40), (76, 40), (79, 40), (75, 44), (79, 44), (81, 40), (77, 40), (75, 41), (74, 40), (79, 44), (81, 40), (82, 40), (84, 44), (82, 40), (81, 40), (79, 40), (75, 40), (69, 44), (67, 40), (67, 5), (65, 40), (62, 44), (64, 40), (65, 40), (78, 44), (70, 40), (69, 40), (65, 40), (64, 40), (72, 44), (74, 1046), (75, 984), (62, 70), (74, 40), (62, 44), (64, 40), (65, 40), (78, 44), (70, 40), (69, 40), (65, 40), (64, 40), (72, 44), (74, 1046), (75, 984), (62, 70), (74, 40), (70, 44), (65, 44), (67, 40), (72, 40), (69, 40), (66, 44), (64, 1046), (60, 984), (62, 70), (77, 44), (76, 40), (72, 40), (74, 40), (69, 40), (69, 5), (67, 40), (65, 40), (64, 40), (66, 40), (67, 40), (79, 44), (72, 40), (70, 40), (62, 44), (64, 40), (66, 40), (62, 44), (62, 27), (64, 1046), (65, 984), (70, 70), (79, 44), (76, 40), (74, 40), (81, 44), (82, 40), (79, 40), (77, 44), (76, 40), (78, 40), (67, 44), (65, 1046), (64, 984), (67, 70), (65, 40), (65, 1), (68, 40), (79, 44), (77, 40), (76, 40), (74, 40), (66, 40), (67, 40), (64, 44), (62, 40), (66, 40), (64, 44), (62, 1046), (79, 70), (77, 40), (76, 40), (74, 40), (69, 40), (67, 40), (65, 44), (64, 40), (62, 40), (64, 40), (65, 40), (67, 44), (69, 40), (70, 40), (70, 5), (67, 40), (65, 44), (64, 40), (65, 40), (82, 44), (81, 40), (79, 40), (77, 40), (69, 40), (69, 1), (66, 44), (62, 40), (64, 40), (67, 40), (67, 1), (65, 44), (64, 1046), (65, 984), (70, 978), (67, 1018), (64, 984), (65, 70), (76, 49), (65, 40), (67, 494), (69, 486), (70, 469), (76, 17), (74, 40), (67, 40), (69, 44), (70, 40), (74, 40), (81, 44), (62, 27), (64, 40), (65, 40), (78, 44), (70, 40), (69, 40), (65, 40), (64, 40), (72, 44), (74, 1046), (75, 984), (62, 70), (74, 40), (62, 44), (64, 40), (65, 40), (78, 44), (70, 40), (69, 40), (65, 40), (64, 40), (72, 44), (74, 1046), (75, 984), (62, 70), (74, 40), (70, 44), (65, 44), (67, 40), (72, 40), (69, 40), (66, 44), (64, 1046), (60, 984), (62, 70), (77, 44), (76, 40), (72, 40), (74, 40), (69, 40), (69, 5), (67, 40), (65, 40), (64, 40), (66, 40), (67, 40), (79, 44), (72, 40), (70, 40), (62, 44), (64, 40), (66, 40), (62, 44), (62, 27), (64, 1046), (65, 984), (70, 70), (79, 44), (76, 40), (74, 40), (81, 44), (82, 40), (79, 40), (77, 44), (76, 40), (78, 40), (67, 44), (65, 1046), (64, 984), (67, 70), (65, 40), (65, 1), (68, 40), (79, 44), (77, 40), (76, 40), (74, 40), (66, 40), (67, 40), (64, 44), (62, 40), (66, 40), (64, 44), (62, 1046), (65, 70), (67, 1046), (70, 984), (65, 70), (77, 44), (74, 40), (72, 40), (70, 40), (74, 40), (79, 40), (81, 44), (79, 40), (77, 40), (76, 40), (74, 40), (76, 44), (81, 40), (79, 40), (81, 44), (79, 40), (77, 40), (76, 40), (69, 40), (67, 40), (65, 40), (64, 40), (60, 44), (64, 1046), (68, 984), (72, 70), (70, 40), (69, 40), (67, 40), (65, 40), (65, 5), (68, 1046), (70, 984), (67, 70), (66, 44), (69, 49), (70, 40), (72, 40), (74, 40), (73, 40), (69, 40), (78, 44), (77, 40), (81, 44), (82, 40), (79, 40), (84, 44), (82, 1046), (81, 984), (84, 68), (82, 39), (81, 40), (79, 40), (76, 40), (79, 40), (75, 44), (79, 44), (81, 40), (77, 40), (75, 41), (74, 40), (79, 44), (81, 40), (82, 40), (84, 44), (82, 40), (81, 40), (79, 40), (75, 40), (69, 44), (67, 40), (67, 5), (65, 40), (62, 44), (64, 40), (65, 40), (78, 44), (70, 40), (69, 40), (65, 40), (64, 40), (72, 44), (74, 1046), (75, 984), (62, 70), (74, 40), (62, 44), (64, 40), (65, 40), (78, 44), (70, 40), (69, 40), (65, 40), (64, 40), (72, 44), (74, 1046), (75, 984), (62, 70), (74, 40), (70, 44), (65, 44), (67, 40), (72, 40), (69, 40), (66, 44), (64, 1046), (60, 984), (62, 70), (77, 44), (76, 40), (72, 40), (74, 40), (69, 40), (69, 5), (67, 40), (65, 40), (64, 40), (66, 40), (67, 40), (79, 44), (72, 40), (70, 40), (62, 44), (64, 40), (66, 40), (62, 44), (62, 27), (64, 1046), (65, 984), (70, 70), (79, 44), (76, 40), (74, 40), (81, 44), (82, 40), (79, 40), (77, 44), (76, 40), (78, 40), (67, 44), (65, 1046), (64, 984), (67, 70), (65, 40), (65, 1), (68, 40), (79, 44), (77, 40), (76, 40), (74, 40), (66, 40), (67, 40), (64, 44), (62, 40), (66, 40), (64, 44), (62, 1046), (79, 70), (77, 40), (76, 40), (74, 40), (69, 40), (67, 40), (65, 44), (64, 40), (62, 40), (64, 40), (65, 40), (67, 44), (69, 40), (70, 40), (70, 5), (67, 40), (65, 44), (64, 40), (65, 40), (82, 44), (81, 40), (79, 40), (77, 40), (69, 40), (69, 1), (66, 44), (62, 40), (64, 40), (67, 40), (67, 1), (65, 44), (64, 1046), (65, 984), (70, 978), (67, 1018), (64, 984), (65, 70), (76, 49), (65, 40), (67, 494), (69, 486), (70, 469), (76, 17), (74, 40), (67, 40), (69, 44), (70, 40), (74, 40), (81, 44), (62, 27), (64, 40), (65, 40), (78, 44), (70, 40), (69, 40), (65, 40), (64, 40), (72, 44), (74, 1046), (75, 984), (62, 70), (74, 40), (62, 44), (64, 40), (65, 40), (78, 44), (70, 40), (69, 40), (65, 40), (64, 40), (72, 44), (74, 1046), (75, 984), (62, 70), (74, 40), (70, 44), (65, 44), (67, 40), (72, 40), (69, 40), (66, 44), (64, 1046), (60, 984), (62, 70), (77, 44), (76, 40), (72, 40), (74, 40), (69, 40), (69, 5), (67, 40), (65, 40), (64, 40), (66, 40), (67, 40), (79, 44), (72, 40), (70, 40), (62, 44), (64, 40), (66, 40), (62, 44), (62, 27), (64, 1046), (65, 984), (70, 70), (79, 44), (76, 40), (74, 40), (81, 44), (82, 40), (79, 40), (77, 44), (76, 40), (78, 40), (67, 44), (65, 1046), (64, 984), (67, 70), (65, 40), (65, 1), (68, 40), (79, 44), (77, 40), (76, 40), (74, 40), (66, 40), (67, 40), (64, 44), (62, 40), (66, 40), (64, 44), (62, 1046), (65, 70), (67, 1046), (70, 984), (65, 70), (77, 44), (74, 40), (72, 40), (70, 40), (74, 40), (79, 40), (81, 44), (79, 40), (77, 40), (76, 40), (74, 40), (76, 44), (81, 40), (79, 40), (81, 44), (79, 40), (77, 40), (76, 40), (69, 40), (67, 40), (65, 40), (64, 40), (60, 44), (64, 1046), (68, 984), (72, 70), (70, 40), (69, 40), (67, 40), (65, 40), (65, 5), (68, 1046), (70, 984), (67, 70), (66, 44), (69, 49), (70, 40), (72, 40), (74, 40), (73, 40), (69, 40), (78, 44), (77, 40), (81, 44), (82, 40), (79, 40), (84, 44), (82, 1046), (81, 984), (84, 68), (82, 39), (81, 40), (79, 40), (76, 40), (79, 40), (75, 44), (79, 44), (81, 40), (77, 40), (75, 41), (74, 40), (79, 44), (81, 40), (82, 40), (84, 44), (82, 40), (81, 40), (79, 40), (75, 40), (69, 44), (67, 40), (67, 5), (65, 40), (62, 44), (64, 40), (65, 40), (78, 44), (70, 40), (69, 40), (65, 40), (64, 40), (72, 44), (74, 1046), (75, 984), (62, 70), (74, 40), (62, 44), (64, 40), (65, 40), (78, 44), (70, 40), (69, 40), (65, 40), (64, 40), (72, 44), (74, 1046), (75, 984), (62, 70), (74, 40), (70, 44), (65, 44), (67, 40), (72, 40), (69, 40), (66, 44), (64, 1046), (60, 984), (62, 70), (77, 44), (76, 40), (72, 40), (74, 40), (69, 40), (69, 5), (67, 40), (65, 40), (64, 40), (66, 40), (67, 40), (79, 44), (72, 40), (70, 40), (62, 44), (64, 40), (66, 40), (62, 44), (62, 27), (64, 1046), (65, 984), (70, 70), (79, 44), (76, 40), (74, 40), (81, 44), (82, 40), (79, 40), (77, 44), (76, 40), (78, 40), (67, 44), (65, 1046), (64, 984), (67, 70), (65, 40), (65, 1), (68, 40), (79, 44), (77, 40), (76, 40), (74, 40), (66, 40), (67, 40), (64, 44), (62, 40), (66, 40), (64, 44), (62, 1046), (79, 70), (77, 40), (76, 40), (74, 40), (69, 40), (67, 40), (65, 44), (64, 40), (62, 40), (64, 40), (65, 40), (67, 44), (69, 40), (70, 40), (70, 5), (67, 40), (65, 44), (64, 40), (65, 40), (82, 44), (81, 40), (79, 40), (77, 40), (69, 40), (69, 1), (66, 44), (62, 40), (64, 40), (67, 40), (67, 1), (65, 44), (64, 1046), (65, 984), (70, 978), (67, 1018), (64, 984), (65, 70), (76, 49), (65, 40), (67, 494), (69, 486), (70, 469), (76, 17), (74, 40), (67, 40), (69, 44), (70, 40), (74, 40), (81, 44), (62, 27), (64, 40), (65, 40), (78, 44), (70, 40), (69, 40), (65, 40), (64, 40), (72, 44), (74, 1046), (75, 984), (62, 70), (74, 40), (62, 44), (64, 40), (65, 40), (78, 44), (70, 40), (69, 40), (65, 40), (64, 40), (72, 44), (74, 1046), (75, 984), (62, 70), (74, 40), (70, 44), (65, 44), (67, 40), (72, 40), (69, 40), (66, 44), (64, 1046), (60, 984), (62, 70), (77, 44), (76, 40), (72, 40), (74, 40), (69, 40), (69, 5), (67, 40), (65, 40), (64, 40), (66, 40), (67, 40), (79, 44), (72, 40), (70, 40), (62, 44), (64, 40), (66, 40), (62, 44), (62, 27), (64, 1046), (65, 984), (70, 70), (79, 44), (76, 40), (74, 40), (81, 44), (82, 40), (79, 40), (77, 44), (76, 40), (78, 40), (67, 44), (65, 1046), (64, 984), (67, 70), (65, 40), (65, 1), (68, 40), (79, 44), (77, 40), (76, 40), (74, 40), (66, 40), (67, 40), (64, 44), (62, 40), (66, 40), (64, 44), (62, 1046), (65, 70), (67, 1046), (70, 984), (65, 70), (77, 44), (74, 40), (72, 40), (70, 40), (74, 40), (79, 40), (81, 44), (79, 40), (77, 40), (76, 40), (74, 40), (76, 44), (81, 40), (79, 40), (81, 44), (79, 40), (77, 40), (76, 40), (69, 40), (67, 40), (65, 40), (64, 40), (60, 44), (64, 1046), (68, 984), (72, 70), (70, 40), (69, 40), (67, 40), (65, 40), (65, 5), (68, 1046), (70, 984), (67, 70), (66, 44), (69, 49), (70, 40), (72, 40), (74, 40), (73, 40), (69, 40), (78, 44), (77, 40), (81, 44), (82, 40), (79, 40), (84, 44), (82, 1046), (81, 984), (84, 68), (82, 39), (81, 40), (79, 40), (76, 40), (79, 40), (75, 44), (79, 44), (81, 40), (77, 40), (75, 41), (74, 40), (79, 44), (81, 40), (82, 40), (84, 44), (82, 40), (81, 40), (79, 40), (75, 40), (69, 44), (67, 40), (67, 5), (65, 40), (62, 44), (64, 40), (65, 40), (78, 44), (70, 40), (69, 40), (65, 40), (64, 40), (72, 44), (74, 1046), (75, 984), (62, 70), (74, 40), (62, 44), (64, 40), (65, 40), (78, 44), (70, 40), (69, 40), (65, 40), (64, 40), (72, 44), (74, 1046), (75, 984), (62, 70), (74, 40), (70, 44), (65, 44), (67, 40), (72, 40), (69, 40), (66, 44), (64, 1046), (60, 984), (62, 70), (77, 44), (76, 40), (72, 40), (74, 40), (69, 40), (69, 5), (67, 40), (65, 40), (64, 40), (66, 40), (67, 40), (79, 44), (72, 40), (70, 40), (62, 44), (64, 40), (66, 40), (62, 44), (62, 27), (64, 1046), (65, 984), (70, 70), (79, 44), (76, 40), (74, 40), (81, 44), (82, 40), (79, 40), (77, 44), (76, 40), (78, 40), (67, 44), (65, 1046), (64, 984), (67, 70), (65, 40), (65, 1), (68, 40), (79, 44), (77, 40), (76, 40), (74, 40), (66, 40), (67, 40), (64, 44), (62, 40), (66, 40), (64, 44), (62, 1046), (79, 70), (77, 40), (76, 40), (74, 40), (69, 40), (67, 40), (65, 44), (64, 40), (62, 40), (64, 40), (65, 40), (67, 44), (69, 40), (70, 40), (70, 5), (67, 40), (65, 44), (64, 40), (65, 40), (82, 44), (81, 40), (79, 40), (77, 40), (69, 40), (69, 1), (66, 44), (62, 40), (64, 40), (67, 40), (67, 1), (65, 44), (64, 1046), (65, 984), (70, 978), (67, 1018), (64, 984), (65, 70), (76, 49), (65, 40), (67, 494), (69, 486), (70, 469), (76, 17), (74, 40), (67, 40), (69, 44), (70, 40), (74, 40), (81, 44), (62, 27), (64, 40), (65, 40), (78, 44), (70, 40), (69, 40), (65, 40), (64, 40), (72, 44), (74, 1046), (75, 984), (62, 70), (74, 40), (62, 44), (64, 40), (65, 40), (78, 44), (70, 40), (69, 40), (65, 40), (64, 40), (72, 44), (74, 1046), (75, 984), (62, 70), (74, 40), (70, 44), (65, 44), (67, 40), (72, 40), (69, 40), (66, 44), (64, 1046), (60, 984), (62, 70), (77, 44), (76, 40), (72, 40), (74, 40), (69, 40), (69, 5), (67, 40), (65, 40), (64, 40), (66, 40), (67, 40), (79, 44), (72, 40), (70, 40), (62, 44), (64, 40), (66, 40), (62, 44), (62, 27), (64, 1046), (65, 984), (70, 70), (79, 44), (76, 40), (74, 40), (81, 44), (82, 40), (79, 40), (77, 44), (76, 40), (78, 40), (67, 44), (65, 1046), (64, 984), (67, 70), (65, 40), (65, 1), (68, 40), (79, 44), (77, 40), (76, 40), (74, 40), (66, 40), (67, 40), (64, 44), (62, 40), (66, 40), (64, 44), (62, 1046), (65, 70), (67, 1046), (70, 984), (65, 70), (77, 44), (74, 40), (72, 40), (70, 40), (74, 40), (79, 40), (81, 44), (79, 40), (77, 40), (76, 40), (74, 40), (76, 44), (81, 40), (79, 40), (81, 44), (79, 40), (77, 40), (76, 40), (69, 40), (67, 40), (65, 40), (64, 40), (60, 44), (64, 1046), (68, 984), (72, 70), (70, 40), (69, 40), (67, 40), (65, 40), (65, 5), (68, 1046), (70, 984), (67, 70), (66, 44), (69, 49), (70, 40), (72, 40), (74, 40), (73, 40), (69, 40), (78, 44), (77, 40), (81, 44), (82, 40), (79, 40), (84, 44), (82, 1046), (81, 984), (84, 68), (82, 39), (81, 40), (79, 40), (76, 40), (79, 40), (75, 44), (79, 44), (81, 40), (77, 40), (75, 41), (74, 40), (79, 44), (81, 40), (82, 40), (84, 44), (82, 40), (81, 40), (79, 40), (75, 40), (69, 44), (67, 40), (67, 5), (65, 40), (62, 44), (64, 40), (65, 40), (78, 44), (70, 40), (69, 40), (65, 40), (64, 40), (72, 44), (74, 1046), (75, 984), (62, 70), (74, 40), (62, 44), (64, 40), (65, 40), (78, 44), (70, 40), (69, 40), (65, 40), (64, 40), (72, 44), (74, 1046), (75, 984), (62, 70), (74, 40), (70, 44), (65, 44), (67, 40), (72, 40), (69, 40), (66, 44), (64, 1046), (60, 984), (62, 70), (77, 44), (76, 40), (72, 40), (74, 40), (69, 40), (69, 5), (67, 40), (65, 40), (64, 40), (66, 40), (67, 40), (79, 44), (72, 40), (70, 40), (62, 44), (64, 40), (66, 40), (62, 44), (62, 27), (64, 1046), (65, 984), (70, 70), (79, 44), (76, 40), (74, 40), (81, 44), (82, 40), (79, 40), (77, 44), (76, 40), (78, 40), (67, 44), (65, 1046), (64, 984), (67, 70), (65, 40), (65, 1), (68, 40), (79, 44), (77, 40), (76, 40), (74, 40), (66, 40), (67, 40), (64, 44), (62, 40), (66, 40), (64, 44), (62, 1046), (79, 70), (77, 40), (76, 40), (74, 40), (69, 40), (67, 40), (65, 44), (64, 40), (62, 40), (64, 40), (65, 40), (67, 44), (69, 40), (70, 40), (70, 5), (67, 40), (65, 44), (64, 40), (65, 40), (82, 44), (81, 40), (79, 40), (77, 40), (69, 40), (69, 1), (66, 44), (62, 40), (64, 40), (67, 40), (67, 1), (65, 44), (64, 1046), (65, 984), (70, 978), (67, 1018), (64, 984), (65, 70), (76, 49), (65, 40), (67, 494), (69, 486), (70, 469), (76, 17), (74, 40), (67, 40), (69, 44), (70, 40), (74, 40), (81, 44), (62, 27), (64, 40), (65, 40), (78, 44), (70, 40), (69, 40), (65, 40), (64, 40), (72, 44), (74, 1046), (75, 984), (62, 70), (74, 40), (62, 44), (64, 40), (65, 40), (78, 44), (70, 40), (69, 40), (65, 40), (64, 40), (72, 44), (74, 1046), (75, 984), (62, 70), (74, 40), (70, 44), (65, 44), (67, 40), (72, 40), (69, 40), (66, 44), (64, 1046), (60, 984), (62, 70), (77, 44), (76, 40), (72, 40), (74, 40), (69, 40), (69, 5), (67, 40), (65, 40), (64, 40), (66, 40), (67, 40), (79, 44), (72, 40), (70, 40), (62, 44), (64, 40), (66, 40), (62, 44), (62, 27), (64, 1046), (65, 984), (70, 70), (79, 44), (76, 40), (74, 40), (81, 44), (82, 40), (79, 40), (77, 44), (76, 40), (78, 40), (67, 44), (65, 1046), (64, 984), (67, 70), (65, 40), (65, 1), (68, 40), (79, 44), (77, 40), (76, 40), (74, 40), (66, 40), (67, 40), (64, 44), (62, 40), (66, 40), (64, 44), (62, 1046), (65, 70), (67, 1046), (70, 984), (65, 70), (77, 44), (74, 40), (72, 40), (70, 40), (74, 40), (79, 40), (81, 44), (79, 40), (77, 40), (76, 40), (74, 40), (76, 44), (81, 40), (79, 40), (81, 44), (79, 40), (77, 40), (76, 40), (69, 40), (67, 40), (65, 40), (64, 40), (60, 44), (64, 1046), (68, 984), (72, 70), (70, 40), (69, 40), (67, 40), (65, 40), (65, 5), (68, 1046), (70, 984), (67, 70), (66, 44), (69, 49), (70, 40), (72, 40), (74, 40), (73, 40), (69, 40), (78, 44), (77, 40), (81, 44), (82, 40), (79, 40), (84, 44), (82, 1046), (81, 984), (84, 68), (82, 39), (81, 40), (79, 40), (76, 40), (79, 40), (75, 44), (79, 44), (81, 40), (77, 40), (75, 41), (74, 40), (79, 44), (81, 40), (82, 40), (84, 44), (82, 40), (81, 40), (79, 40), (75, 40), (69, 44), (67, 40), (67, 5), (65, 40), (62, 44), (64, 40), (65, 40), (78, 44), (70, 40), (69, 40), (65, 40), (64, 40), (72, 44), (74, 1046), (75, 984), (62, 70), (74, 40), (62, 44), (64, 40), (65, 40), (78, 44), (70, 40), (69, 40), (65, 40), (64, 40), (72, 44), (74, 1046), (75, 984), (62, 70), (74, 40), (70, 44), (65, 44), (67, 40), (72, 40), (69, 40), (66, 44), (64, 1046), (60, 984), (62, 70), (77, 44), (76, 40), (72, 40), (74, 40), (69, 40), (69, 5), (67, 40), (65, 40), (64, 40), (66, 40), (67, 40), (79, 44), (72, 40), (70, 40), (62, 44), (64, 40), (66, 40), (62, 44), (62, 27), (64, 1046), (65, 984), (70, 70), (79, 44), (76, 40), (74, 40), (81, 44), (82, 40), (79, 40), (77, 44), (76, 40), (78, 40), (67, 44), (65, 1046), (64, 984), (67, 70), (65, 40), (65, 1), (68, 40), (79, 44), (77, 40), (76, 40), (74, 40), (66, 40), (67, 40), (64, 44), (62, 40), (66, 40), (64, 44), (62, 1046), (79, 70), (77, 40), (76, 40), (74, 40), (69, 40), (67, 40), (65, 44), (64, 40), (62, 40), (64, 40), (65, 40), (67, 44), (69, 40), (70, 40), (70, 5), (67, 40), (65, 44), (64, 40), (65, 40), (82, 44), (81, 40), (79, 40), (77, 40), (69, 40), (69, 1), (66, 44), (62, 40), (64, 40), (67, 40), (67, 1), (65, 44), (64, 1046), (65, 984), (70, 978), (67, 1018), (64, 984), (65, 70), (76, 49), (65, 40), (67, 494), (69, 486), (70, 469), (76, 17), (74, 40), (67, 40), (69, 44), (70, 40), (74, 40), (81, 44), (62, 27), (64, 40), (65, 40), (78, 44), (70, 40), (69, 40), (65, 40), (64, 40), (72, 44), (74, 1046), (75, 984), (62, 70), (74, 40), (62, 44), (64, 40), (65, 40), (78, 44), (70, 40), (69, 40), (65, 40), (64, 40), (72, 44), (74, 1046), (75, 984), (62, 70), (74, 40), (70, 44), (65, 44), (67, 40), (72, 40), (69, 40), (66, 44), (64, 1046), (60, 984), (62, 70), (77, 44), (76, 40), (72, 40), (74, 40), (69, 40), (69, 5), (67, 40), (65, 40), (64, 40), (66, 40), (67, 40), (79, 44), (72, 40), (70, 40), (62, 44), (64, 40), (66, 40), (62, 44), (62, 27), (64, 1046), (65, 984), (70, 70), (79, 44), (76, 40), (74, 40), (81, 44), (82, 40), (79, 40), (77, 44), (76, 40), (78, 40), (67, 44), (65, 1046), (64, 984), (67, 70), (65, 40), (65, 1), (68, 40), (79, 44), (77, 40), (76, 40), (74, 40), (66, 40), (67, 40), (64, 44), (62, 40), (66, 40), (64, 44), (62, 1046), (65, 70), (67, 1046), (70, 984), (65, 70), (77, 44), (74, 40), (72, 40), (70, 40), (74, 40), (79, 40), (81, 44), (79, 40), (77, 40), (76, 40), (74, 40), (76, 44), (81, 40), (79, 40), (81, 44), (79, 40), (77, 40), (76, 40), (69, 40), (67, 40), (65, 40), (64, 40), (60, 44), (64, 1046), (68, 984), (72, 70), (70, 40), (69, 40), (67, 40), (65, 40), (65, 5), (68, 1046), (70, 984), (67, 70), (66, 44), (69, 49), (70, 40), (72, 40), (74, 40), (73, 40), (69, 40), (78, 44), (77, 40), (81, 44), (82, 40), (79, 40), (84, 44), (82, 1046), (81, 984), (84, 68), (82, 39), (81, 40), (79, 40), (76, 40), (79, 40), (75, 44), (79, 44), (81, 40), (77, 40), (75, 41), (74, 40), (79, 44), (81, 40), (82, 40), (84, 44), (82, 40), (81, 40), (79, 40), (75, 40), (69, 44), (67, 40), (67, 5), (65, 40), (62, 44), (64, 40), (65, 40), (78, 44), (70, 40), (69, 40), (65, 40), (64, 40), (72, 44), (74, 1046), (75, 984), (62, 70), (74, 40), (62, 44), (64, 40), (65, 40), (78, 44), (70, 40), (69, 40), (65, 40), (64, 40), (72, 44), (74, 1046), (75, 984), (62, 70), (74, 40), (70, 44), (65, 44), (67, 40), (72, 40), (69, 40), (66, 44), (64, 1046), (60, 984), (62, 70), (77, 44), (76, 40), (72, 40), (74, 40), (69, 40), (69, 5), (67, 40), (65, 40), (64, 40), (66, 40), (67, 40), (79, 44), (72, 40), (70, 40), (62, 44), (64, 40), (66, 40), (62, 44), (62, 27), (64, 1046), (65, 984), (70, 70), (79, 44), (76, 40), (74, 40), (81, 44), (82, 40), (79, 40), (77, 44), (76, 40), (78, 40), (67, 44), (65, 1046), (64, 984), (67, 70), (65, 40), (65, 1), (68, 40), (79, 44), (77, 40), (76, 40), (74, 40), (66, 40), (67, 40), (64, 44), (62, 40), (66, 40), (64, 44), (62, 1046), (79, 70), (77, 40), (76, 40), (74, 40), (69, 40), (67, 40), (65, 44), (64, 40), (62, 40), (64, 40), (65, 40), (67, 44), (69, 40), (70, 40), (70, 5), (67, 40), (65, 44), (64, 40), (65, 40), (82, 44), (81, 40), (79, 40), (77, 40), (69, 40), (69, 1), (66, 44), (62, 40), (64, 40), (67, 40), (67, 1), (65, 44), (64, 1046), (65, 984), (70, 978), (67, 1018), (64, 984), (65, 70), (76, 49), (65, 40), (67, 494), (69, 486), (70, 469), (76, 17), (74, 40), (67, 40), (69, 44), (70, 40), (74, 40), (81, 44), (62, 27), (64, 40), (65, 40), (78, 44), (70, 40), (69, 40), (65, 40), (64, 40), (72, 44), (74, 1046), (75, 984), (62, 70), (74, 40), (62, 44), (64, 40), (65, 40), (78, 44), (70, 40), (69, 40), (65, 40), (64, 40), (72, 44), (74, 1046), (75, 984), (62, 70), (74, 40), (70, 44), (65, 44), (67, 40), (72, 40), (69, 40), (66, 44), (64, 1046), (60, 984), (62, 70), (77, 44), (76, 40), (72, 40), (74, 40), (69, 40), (69, 5), (67, 40), (65, 40), (64, 40), (66, 40), (67, 40), (79, 44), (72, 40), (70, 40), (62, 44), (64, 40), (66, 40), (62, 44), (62, 27), (64, 1046), (65, 984), (70, 70), (79, 44), (76, 40), (74, 40), (81, 44), (82, 40), (79, 40), (77, 44), (76, 40), (78, 40), (67, 44), (65, 1046), (64, 984), (67, 70), (65, 40), (65, 1), (68, 40), (79, 44), (77, 40), (76, 40), (74, 40), (66, 40), (67, 40), (64, 44), (62, 40), (66, 40), (64, 44), (62, 1046), (65, 70), (67, 1046), (70, 984), (65, 70), (77, 44), (74, 40), (72, 40), (70, 40), (74, 40), (79, 40), (81, 44), (79, 40), (77, 40), (76, 40), (74, 40), (76, 44), (81, 40), (79, 40), (81, 44), (79, 40), (77, 40), (76, 40), (69, 40), (67, 40), (65, 40), (64, 40), (60, 44), (64, 1046), (68, 984), (72, 70), (70, 40), (69, 40), (67, 40), (65, 40), (65, 5), (68, 1046), (70, 984), (67, 70), (66, 44), (69, 49), (70, 40), (72, 40), (74, 40), (73, 40), (69, 40), (78, 44), (77, 40), (81, 44), (82, 40), (79, 40), (84, 44), (82, 1046), (81, 984), (84, 68), (82, 39), (81, 40), (79, 40), (76, 40), (79, 40), (75, 44), (79, 44), (81, 40), (77, 40), (75, 41), (74, 40), (79, 44), (81, 40), (82, 40), (84, 44), (82, 40), (81, 40), (79, 40), (75, 40), (69, 44), (67, 40), (67, 5), (65, 40), (62, 44), (64, 40), (65, 40), (78, 44), (70, 40), (69, 40), (65, 40), (64, 40), (72, 44), (74, 1046), (75, 984), (62, 70), (74, 40), (62, 44), (64, 40), (65, 40), (78, 44), (70, 40), (69, 40), (65, 40), (64, 40), (72, 44), (74, 1046), (75, 984), (62, 70), (74, 40), (70, 44), (65, 44), (67, 40), (72, 40), (69, 40), (66, 44), (64, 1046), (60, 984), (62, 70), (77, 44), (76, 40), (72, 40), (74, 40), (69, 40), (69, 5), (67, 40), (65, 40), (64, 40), (66, 40), (67, 40), (79, 44), (72, 40), (70, 40), (62, 44), (64, 40), (66, 40), (62, 44), (62, 27), (64, 1046), (65, 984), (70, 70), (79, 44), (76, 40), (74, 40), (81, 44), (82, 40), (79, 40), (77, 44), (76, 40), (78, 40), (67, 44), (65, 1046), (64, 984), (67, 70), (65, 40), (65, 1), (68, 40), (79, 44), (77, 40), (76, 40), (74, 40), (66, 40), (67, 40), (64, 44), (62, 40), (66, 40), (64, 44), (62, 1046), (79, 70), (77, 40), (76, 40), (74, 40), (69, 40), (67, 40), (65, 44), (64, 40), (62, 40), (64, 40), (65, 40), (67, 44), (69, 40), (70, 40), (70, 5), (67, 40), (65, 44), (64, 40), (65, 40), (82, 44), (81, 40), (79, 40), (77, 40), (69, 40), (69, 1), (66, 44), (62, 40), (64, 40), (67, 40), (67, 1), (65, 44), (64, 1046), (65, 984), (70, 978), (67, 1018), (64, 984), (65, 70), (76, 49), (65, 40), (67, 494), (69, 486), (70, 469), (76, 17), (74, 40), (67, 40), (69, 44), (70, 40), (74, 40), (81, 44), (62, 27), (64, 40), (65, 40), (78, 44), (70, 40), (69, 40), (65, 40), (64, 40), (72, 44), (74, 1046), (75, 984), (62, 70), (74, 40), (62, 44), (64, 40), (65, 40), (78, 44), (70, 40), (69, 40), (65, 40), (64, 40), (72, 44), (74, 1046), (75, 984), (62, 70), (74, 40), (70, 44), (65, 44), (67, 40), (72, 40), (69, 40), (66, 44), (64, 1046), (60, 984), (62, 70), (77, 44), (76, 40), (72, 40), (74, 40), (69, 40), (69, 5), (67, 40), (65, 40), (64, 40), (66, 40), (67, 40), (79, 44), (72, 40), (70, 40), (62, 44), (64, 40), (66, 40), (62, 44), (62, 27), (64, 1046), (65, 984), (70, 70), (79, 44), (76, 40), (74, 40), (81, 44), (82, 40), (79, 40), (77, 44), (76, 40), (78, 40), (67, 44), (65, 1046), (64, 984), (67, 70), (65, 40), (65, 1), (68, 40), (79, 44), (77, 40), (76, 40), (74, 40), (66, 40), (67, 40), (64, 44), (62, 40), (66, 40), (64, 44), (62, 1046), (65, 70), (67, 1046), (70, 984), (65, 70), (77, 44), (74, 40), (72, 40), (70, 40), (74, 40), (79, 40), (81, 44), (79, 40), (77, 40), (76, 40), (74, 40), (76, 44), (81, 40), (79, 40), (81, 44), (79, 40), (77, 40), (76, 40), (69, 40), (67, 40), (65, 40), (64, 40), (60, 44), (64, 1046), (68, 984), (72, 70), (70, 40), (69, 40), (67, 40), (65, 40), (65, 5), (68, 1046), (70, 984), (67, 70), (66, 44), (69, 49), (70, 40), (72, 40), (74, 40), (73, 40), (69, 40), (78, 44), (77, 40), (81, 44), (82, 40), (79, 40), (84, 44), (82, 1046), (81, 984), (84, 68), (82, 39), (81, 40), (79, 40), (76, 40), (79, 40), (75, 44), (79, 44), (81, 40), (77, 40), (75, 41), (74, 40), (79, 44), (81, 40), (82, 40), (84, 44), (82, 40), (81, 40), (79, 40), (75, 40), (69, 44), (67, 40), (67, 5), (65, 40), (62, 44), (64, 40), (65, 40), (78, 44), (70, 40), (69, 40), (65, 40), (64, 40), (72, 44), (74, 1046), (75, 984), (62, 70), (74, 40), (62, 44), (64, 40), (65, 40), (78, 44), (70, 40), (69, 40), (65, 40), (64, 40), (72, 44), (74, 1046), (75, 984), (62, 70), (74, 40), (70, 44), (65, 44), (67, 40), (72, 40), (69, 40), (66, 44), (64, 1046), (60, 984), (62, 70), (77, 44), (76, 40), (72, 40), (74, 40), (69, 40), (69, 5), (67, 40), (65, 40), (64, 40), (66, 40), (67, 40), (79, 44), (72, 40), (70, 40), (62, 44), (64, 40), (66, 40), (62, 44), (62, 27), (64, 1046), (65, 984), (70, 70), (79, 44), (76, 40), (74, 40), (81, 44), (82, 40), (79, 40), (77, 44), (76, 40), (78, 40), (67, 44), (65, 1046), (64, 984), (67, 70), (65, 40), (65, 1), (68, 40), (79, 44), (77, 40), (76, 40), (74, 40), (66, 40), (67, 40), (64, 44), (62, 40), (66, 40), (64, 44), (62, 1046), (79, 70), (77, 40), (76, 40), (74, 40), (69, 40), (67, 40), (65, 44), (64, 40), (62, 40), (64, 40), (65, 40), (67, 44), (69, 40), (70, 40), (70, 5), (67, 40), (65, 44), (64, 40), (65, 40), (82, 44), (81, 40), (79, 40), (77, 40), (69, 40), (69, 1), (66, 44), (62, 40), (64, 40), (67, 40), (67, 1), (65, 44), (64, 1046), (65, 984), (70, 978), (67, 1018), (64, 984), (65, 70), (76, 49), (65, 40), (67, 494), (69, 486), (70, 469), (76, 17), (74, 40), (67, 40), (69, 44), (70, 40), (74, 40), (81, 44), (62, 27), (64, 40), (65, 40), (78, 44), (70, 40), (69, 40), (65, 40), (64, 40), (72, 44), (74, 1046), (75, 984), (62, 70), (74, 40), (62, 44), (64, 40), (65, 40), (78, 44), (70, 40), (69, 40), (65, 40), (64, 40), (72, 44), (74, 1046), (75, 984), (62, 70), (74, 40), (70, 44), (65, 44), (67, 40), (72, 40), (69, 40), (66, 44), (64, 1046), (60, 984), (62, 70), (77, 44), (76, 40), (72, 40), (74, 40), (69, 40), (69, 5), (67, 40), (65, 40), (64, 40), (66, 40), (67, 40), (79, 44), (72, 40), (70, 40), (62, 44), (64, 40), (66, 40), (62, 44), (62, 27), (64, 1046), (65, 984), (70, 70), (79, 44), (76, 40), (74, 40), (81, 44), (82, 40), (79, 40), (77, 44), (76, 40), (78, 40), (67, 44), (65, 1046), (64, 984), (67, 70), (65, 40), (65, 1), (68, 40), (79, 44), (77, 40), (76, 40), (74, 40), (66, 40), (67, 40), (64, 44), (62, 40), (66, 40), (64, 44), (62, 1046), (65, 70), (67, 1046), (70, 984), (65, 70), (77, 44), (74, 40), (72, 40), (70, 40), (74, 40), (79, 40), (81, 44), (79, 40), (77, 40), (76, 40), (74, 40), (76, 44), (81, 40), (79, 40), (81, 44), (79, 40), (77, 40), (76, 40), (69, 40), (67, 40), (65, 40), (64, 40), (60, 44), (64, 1046), (68, 984), (72, 70), (70, 40), (69, 40), (67, 40), (65, 40), (65, 5), (68, 1046), (70, 984), (67, 70), (66, 44), (69, 49), (70, 40), (72, 40), (74, 40), (73, 40), (69, 40), (78, 44), (77, 40), (81, 44), (82, 40), (79, 40), (84, 44), (82, 1046), (81, 984), (84, 68), (82, 39), (81, 40), (79, 40), (76, 40), (79, 40), (75, 44), (79, 44), (81, 40), (77, 40), (75, 41), (74, 40), (79, 44), (81, 40), (82, 40), (84, 44), (82, 40), (81, 40), (79, 40), (75, 40), (69, 44), (67, 40), (67, 5), (65, 40), (62, 44), (64, 40), (65, 40), (78, 44), (70, 40), (69, 40), (65, 40), (64, 40), (72, 44), (74, 1046), (75, 984), (62, 70), (74, 40), (62, 44), (64, 40), (65, 40), (78, 44), (70, 40), (69, 40), (65, 40), (64, 40), (72, 44), (74, 1046), (75, 984), (62, 70), (74, 40), (70, 44), (65, 44), (67, 40), (72, 40), (69, 40), (66, 44), (64, 1046), (60, 984), (62, 70), (77, 44), (76, 40), (72, 40), (74, 40), (69, 40), (69, 5), (67, 40), (65, 40), (64, 40), (66, 40), (67, 40), (79, 44), (72, 40), (70, 40), (62, 44), (64, 40), (66, 40), (62, 44), (62, 27), (64, 1046), (65, 984), (70, 70), (79, 44), (76, 40), (74, 40), (81, 44), (82, 40), (79, 40), (77, 44), (76, 40), (78, 40), (67, 44), (65, 1046), (64, 984), (67, 70), (65, 40), (65, 1), (68, 40), (79, 44), (77, 40), (76, 40), (74, 40), (66, 40), (67, 40), (64, 44), (62, 40), (66, 40), (64, 44), (62, 1046), (79, 70), (77, 40), (76, 40), (74, 40), (69, 40), (67, 40), (65, 44), (64, 40), (62, 40), (64, 40), (65, 40), (67, 44), (69, 40), (70, 40), (70, 5), (67, 40), (65, 44), (64, 40), (65, 40), (82, 44), (81, 40), (79, 40), (77, 40), (69, 40), (69, 1), (66, 44), (62, 40), (64, 40), (67, 40), (67, 1), (65, 44), (64, 1046), (65, 984), (70, 978), (67, 1018), (64, 984), (65, 70), (76, 49), (65, 40), (67, 494), (69, 486), (70, 469), (76, 17), (74, 40), (67, 40), (69, 44), (70, 40), (74, 40), (81, 44), (62, 27), (64, 40), (65, 40), (78, 44), (70, 40), (69, 40), (65, 40), (64, 40), (72, 44), (74, 1046), (75, 984), (62, 70), (74, 40), (62, 44), (64, 40), (65, 40), (78, 44), (70, 40), (69, 40), (65, 40), (64, 40), (72, 44), (74, 1046), (75, 984), (62, 70), (74, 40), (70, 44), (65, 44), (67, 40), (72, 40), (69, 40), (66, 44), (64, 1046), (60, 984), (62, 70), (77, 44), (76, 40), (72, 40), (74, 40), (69, 40), (69, 5), (67, 40), (65, 40), (64, 40), (66, 40), (67, 40), (79, 44), (72, 40), (70, 40), (62, 44), (64, 40), (66, 40), (62, 44), (62, 27), (64, 1046), (65, 984), (70, 70), (79, 44), (76, 40), (74, 40), (81, 44), (82, 40), (79, 40), (77, 44), (76, 40), (78, 40), (67, 44), (65, 1046), (64, 984), (67, 70), (65, 40), (65, 1), (68, 40), (79, 44), (77, 40), (76, 40), (74, 40), (66, 40), (67, 40), (64, 44), (62, 40), (66, 40), (64, 44), (62, 1046), (65, 70), (67, 1046), (70, 984), (65, 70), (77, 44), (74, 40), (72, 40), (70, 40), (74, 40), (79, 40), (81, 44), (79, 40), (77, 40), (76, 40), (74, 40), (76, 44), (81, 40), (79, 40), (81, 44), (79, 40), (77, 40), (76, 40), (69, 40), (67, 40), (65, 40), (64, 40), (60, 44), (64, 1046), (68, 984), (72, 70), (70, 40), (69, 40), (67, 40), (65, 40), (65, 5), (68, 1046), (70, 984), (67, 70), (66, 44), (69, 49), (70, 40), (72, 40), (74, 40), (73, 40), (69, 40), (78, 44), (77, 40), (81, 44), (82, 40), (79, 40), (84, 44), (82, 1046), (81, 984), (84, 68), (82, 39), (81, 40), (79, 40), (76, 40), (79, 40), (75, 44), (79, 44), (81, 40), (77, 40), (75, 41), (74, 40), (79, 44), (81, 40), (82, 40), (84, 44), (82, 40), (81, 40), (79, 40), (75, 40), (69, 44), (67, 40), (67, 5), (65, 40), (62, 44), (64, 40), (65, 40), (78, 44), (70, 40), (69, 40), (65, 40), (64, 40), (72, 44), (74, 1046), (75, 984), (62, 70), (74, 40), (62, 44), (64, 40), (65, 40), (78, 44), (70, 40), (69, 40), (65, 40), (64, 40), (72, 44), (74, 1046), (75, 984), (62, 70), (74, 40), (70, 44), (65, 44), (67, 40), (72, 40), (69, 40), (66, 44), (64, 1046), (60, 984), (62, 70), (77, 44), (76, 40), (72, 40), (74, 40), (69, 40), (69, 5), (67, 40), (65, 40), (64, 40), (66, 40), (67, 40), (79, 44), (72, 40), (70, 40), (62, 44), (64, 40), (66, 40), (62, 44), (62, 27), (64, 1046), (65, 984), (70, 70), (79, 44), (76, 40), (74, 40), (81, 44), (82, 40), (79, 40), (77, 44), (76, 40), (78, 40), (67, 44), (65, 1046), (64, 984), (67, 70), (65, 40), (65, 1), (68, 40), (79, 44), (77, 40), (76, 40), (74, 40), (66, 40), (67, 40), (64, 44), (62, 40), (66, 40), (64, 44), (62, 1046), (79, 70), (77, 40), (76, 40), (74, 40), (69, 40), (67, 40), (65, 44), (64, 40), (62, 40), (64, 40), (65, 40), (67, 44), (69, 40), (70, 40), (70, 5), (67, 40), (65, 44), (64, 40), (65, 40), (82, 44), (81, 40), (79, 40), (77, 40), (69, 40), (69, 1), (66, 44), (62, 40), (64, 40), (67, 40), (67, 1), (65, 44), (64, 1046), (65, 984), (70, 978), (67, 1018), (64, 984), (65, 70), (76, 49), (65, 40), (67, 494), (69, 486), (70, 469), (76, 17), (74, 40), (67, 40), (69, 44), (70, 40), (74, 40), (81, 44), (62, 27), (64, 40), (65, 40), (78, 44), (70, 40), (69, 40), (65, 40), (64, 40), (72, 44), (74, 1046), (75, 984), (62, 70), (74, 40), (62, 44), (64, 40), (65, 40), (78, 44), (70, 40), (69, 40), (65, 40), (64, 40), (72, 44), (74, 1046), (75, 984), (62, 70), (74, 40), (70, 44), (65, 44), (67, 40), (72, 40), (69, 40), (66, 44), (64, 1046), (60, 984), (62, 70), (77, 44), (76, 40), (72, 40), (74, 40), (69, 40), (69, 5), (67, 40), (65, 40), (64, 40), (66, 40), (67, 40), (79, 44), (72, 40), (70, 40), (62, 44), (64, 40), (66, 40), (62, 44), (62, 27), (64, 1046), (65, 984), (70, 70), (79, 44), (76, 40), (74, 40), (81, 44), (82, 40), (79, 40), (77, 44), (76, 40), (78, 40), (67, 44), (65, 1046), (64, 984), (67, 70), (65, 40), (65, 1), (68, 40), (79, 44), (77, 40), (76, 40), (74, 40), (66, 40), (67, 40), (64, 44), (62, 40), (66, 40), (64, 44), (62, 1046), (65, 70), (67, 1046), (70, 984), (65, 70), (77, 44), (74, 40), (72, 40), (70, 40), (74, 40), (79, 40), (81, 44), (79, 40), (77, 40), (76, 40), (74, 40), (76, 44), (81, 40), (79, 40), (81, 44), (79, 40), (77, 40), (76, 40), (69, 40), (67, 40), (65, 40), (64, 40), (60, 44), (64, 1046), (68, 984), (72, 70), (70, 40), (69, 40), (67, 40), (65, 40), (65, 5), (68, 1046), (70, 984), (67, 70), (66, 44), (69, 49), (70, 40), (72, 40), (74, 40), (73, 40), (69, 40), (78, 44), (77, 40), (81, 44), (82, 40), (79, 40), (84, 44), (82, 1046), (81, 984), (84, 68), (82, 39), (81, 40), (79, 40), (76, 40), (79, 40), (75, 44), (79, 44), (81, 40), (77, 40), (75, 41), (74, 40), (79, 44), (81, 40), (82, 40), (84, 44), (82, 40), (81, 40), (79, 40), (75, 40), (69, 44), (67, 40), (67, 5), (65, 40), (62, 44), (64, 40), (65, 40), (78, 44), (70, 40), (69, 40), (65, 40), (64, 40), (72, 44), (74, 1046), (75, 984), (62, 70), (74, 40), (62, 44), (64, 40), (65, 40), (78, 44), (70, 40), (69, 40), (65, 40), (64, 40), (72, 44), (74, 1046), (75, 984), (62, 70), (74, 40), (70, 44), (65, 44), (67, 40), (72, 40), (69, 40), (66, 44), (64, 1046), (60, 984), (62, 70), (77, 44), (76, 40), (72, 40), (74, 40), (69, 40), (69, 5), (67, 40), (65, 40), (64, 40), (66, 40), (67, 40), (79, 44), (72, 40), (70, 40), (62, 44), (64, 40), (66, 40), (62, 44), (62, 27), (64, 1046), (65, 984), (70, 70), (79, 44), (76, 40), (74, 40), (81, 44), (82, 40), (79, 40), (77, 44), (76, 40), (78, 40), (67, 44), (65, 1046), (64, 984), (67, 70), (65, 40), (65, 1), (68, 40), (79, 44), (77, 40), (76, 40), (74, 40), (66, 40), (67, 40), (64, 44), (62, 40), (66, 40), (64, 44), (62, 1046), (79, 70), (77, 40), (76, 40), (74, 40), (69, 40), (67, 40), (65, 44), (64, 40), (62, 40), (64, 40), (65, 40), (67, 44), (69, 40), (70, 40), (70, 5), (67, 40), (65, 44), (64, 40), (65, 40), (82, 44), (81, 40), (79, 40), (77, 40), (69, 40), (69, 1), (66, 44), (62, 40), (64, 40), (67, 40), (67, 1), (65, 44), (64, 1046), (65, 984), (70, 978), (67, 1018), (64, 984), (65, 70), (76, 49), (65, 40), (67, 494), (69, 486), (70, 469), (76, 17), (74, 40), (67, 40), (69, 44), (70, 40), (74, 40), (81, 44), (62, 27), (64, 40), (65, 40), (78, 44), (70, 40), (69, 40), (65, 40), (64, 40), (72, 44), (74, 1046), (75, 984), (62, 70), (74, 40), (62, 44), (64, 40), (65, 40), (78, 44), (70, 40), (69, 40), (65, 40), (64, 40), (72, 44), (74, 1046), (75, 984), (62, 70), (74, 40), (70, 44), (65, 44), (67, 40), (72, 40), (69, 40), (66, 44), (64, 1046), (60, 984), (62, 70), (77, 44), (76, 40), (72, 40), (74, 40), (69, 40), (69, 5), (67, 40), (65, 40), (64, 40), (66, 40), (67, 40), (79, 44), (72, 40), (70, 40), (62, 44), (64, 40), (66, 40), (62, 44), (62, 27), (64, 1046), (65, 984), (70, 70), (79, 44), (76, 40), (74, 40), (81, 44), (82, 40), (79, 40), (77, 44), (76, 40), (78, 40), (67, 44), (65, 1046), (64, 984), (67, 70), (65, 40), (65, 1), (68, 40), (79, 44), (77, 40), (76, 40), (74, 40), (66, 40), (67, 40), (64, 44), (62, 40), (66, 40), (64, 44), (62, 1046), (65, 70), (67, 1046), (70, 984), (65, 70), (77, 44), (74, 40), (72, 40), (70, 40), (74, 40), (79, 40), (81, 44), (79, 40), (77, 40), (76, 40), (74, 40), (76, 44), (81, 40), (79, 40), (81, 44), (79, 40), (77, 40), (76, 40), (69, 40), (67, 40), (65, 40), (64, 40), (60, 44), (64, 1046), (68, 984), (72, 70), (70, 40), (69, 40), (67, 40), (65, 40), (65, 5), (68, 1046), (70, 984), (67, 70), (66, 44), (69, 49), (70, 40), (72, 40), (74, 40), (73, 40), (69, 40), (78, 44), (77, 40), (81, 44), (82, 40), (79, 40), (84, 44), (82, 1046), (81, 984), (84, 68), (82, 39), (81, 40), (79, 40), (76, 40), (79, 40), (75, 44), (79, 44), (81, 40), (77, 40), (75, 41), (74, 40), (79, 44), (81, 40), (82, 40), (84, 44), (82, 40), (81, 40), (79, 40), (75, 40), (69, 44), (67, 40), (67, 5), (65, 40), (62, 44), (64, 40), (65, 40), (78, 44), (70, 40), (69, 40), (65, 40), (64, 40), (72, 44), (74, 1046), (75, 984), (62, 70), (74, 40), (62, 44), (64, 40), (65, 40), (78, 44), (70, 40), (69, 40), (65, 40), (64, 40), (72, 44), (74, 1046), (75, 984), (62, 70), (74, 40), (70, 44), (65, 44), (67, 40), (72, 40), (69, 40), (66, 44), (64, 1046), (60, 984), (62, 70), (77, 44), (76, 40), (72, 40), (74, 40), (69, 40), (69, 5), (67, 40), (65, 40), (64, 40), (66, 40), (67, 40), (79, 44), (72, 40), (70, 40), (62, 44), (64, 40), (66, 40), (62, 44), (62, 27), (64, 1046), (65, 984), (70, 70), (79, 44), (76, 40), (74, 40), (81, 44), (82, 40), (79, 40), (77, 44), (76, 40), (78, 40), (67, 44), (65, 1046), (64, 984), (67, 70), (65, 40), (65, 1), (68, 40), (79, 44), (77, 40), (76, 40), (74, 40), (66, 40), (67, 40), (64, 44), (62, 40), (66, 40), (64, 44), (62, 1046), (79, 70), (77, 40), (76, 40), (74, 40), (69, 40), (67, 40), (65, 44), (64, 40), (62, 40), (64, 40), (65, 40), (67, 44), (69, 40), (70, 40), (70, 5), (67, 40), (65, 44), (64, 40), (65, 40), (82, 44), (81, 40), (79, 40), (77, 40), (69, 40), (69, 1), (66, 44), (62, 40), (64, 40), (67, 40), (67, 1), (65, 44), (64, 1046), (65, 984), (70, 978), (67, 1018), (64, 984), (65, 70), (76, 49), (65, 40), (67, 494), (69, 486), (70, 469), (76, 17), (74, 40), (67, 40), (69, 44), (70, 40), (74, 40), (81, 44), (62, 27), (64, 40), (65, 40), (78, 44), (70, 40), (69, 40), (65, 40), (64, 40), (72, 44), (74, 1046), (75, 984), (62, 70), (74, 40), (62, 44), (64, 40), (65, 40), (78, 44), (70, 40), (69, 40), (65, 40), (64, 40), (72, 44), (74, 1046), (75, 984), (62, 70), (74, 40), (70, 44), (65, 44), (67, 40), (72, 40), (69, 40), (66, 44), (64, 1046), (60, 984), (62, 70), (77, 44), (76, 40), (72, 40), (74, 40), (69, 40), (69, 5), (67, 40), (65, 40), (64, 40), (66, 40), (67, 40), (79, 44), (72, 40), (70, 40), (62, 44), (64, 40), (66, 40), (62, 44), (62, 27), (64, 1046), (65, 984), (70, 70), (79, 44), (76, 40), (74, 40), (81, 44), (82, 40), (79, 40), (77, 44), (76, 40), (78, 40), (67, 44), (65, 1046), (64, 984), (67, 70), (65, 40), (65, 1), (68, 40), (79, 44), (77, 40), (76, 40), (74, 40), (66, 40), (67, 40), (64, 44), (62, 40), (66, 40), (64, 44), (62, 1046), (65, 70), (67, 1046), (70, 984), (65, 70), (77, 44), (74, 40), (72, 40), (70, 40), (74, 40), (79, 40), (81, 44), (79, 40), (77, 40), (76, 40), (74, 40), (76, 44), (81, 40), (79, 40), (81, 44), (79, 40), (77, 40), (76, 40), (69, 40), (67, 40), (65, 40), (64, 40), (60, 44), (64, 1046), (68, 984), (72, 70), (70, 40), (69, 40), (67, 40), (65, 40), (65, 5), (68, 1046), (70, 984), (67, 70), (66, 44), (69, 49), (70, 40), (72, 40), (74, 40), (73, 40), (69, 40), (78, 44), (77, 40), (81, 44), (82, 40), (79, 40), (84, 44), (82, 1046), (81, 984), (84, 68), (82, 39), (81, 40), (79, 40), (76, 40), (79, 40), (75, 44), (79, 44), (81, 40), (77, 40), (75, 41), (74, 40), (79, 44), (81, 40), (82, 40), (84, 44), (82, 40), (81, 40), (79, 40), (75, 40), (69, 44), (67, 40), (67, 5), (65, 40), (62, 44), (64, 40), (65, 40), (78, 44), (70, 40), (69, 40), (65, 40), (64, 40), (72, 44), (74, 1046), (75, 984), (62, 70), (74, 40), (62, 44), (64, 40), (65, 40), (78, 44), (70, 40), (69, 40), (65, 40), (64, 40), (72, 44), (74, 1046), (75, 984), (62, 70), (74, 40), (70, 44), (65, 44), (67, 40), (72, 40), (69, 40), (66, 44), (64, 1046), (60, 984), (62, 70), (77, 44), (76, 40), (72, 40), (74, 40), (69, 40), (69, 5), (67, 40), (65, 40), (64, 40), (66, 40), (67, 40), (79, 44), (72, 40), (70, 40), (62, 44), (64, 40), (66, 40), (62, 44), (62, 27), (64, 1046), (65, 984), (70, 70), (79, 44), (76, 40), (74, 40), (81, 44), (82, 40), (79, 40), (77, 44), (76, 40), (78, 40), (67, 44), (65, 1046), (64, 984), (67, 70), (65, 40), (65, 1), (68, 40), (79, 44), (77, 40), (76, 40), (74, 40), (66, 40), (67, 40), (64, 44), (62, 40), (66, 40), (64, 44), (62, 1046), (79, 70), (77, 40), (76, 40), (74, 40), (69, 40), (67, 40), (65, 44), (64, 40), (62, 40), (64, 40), (65, 40), (67, 44), (69, 40), (70, 40), (70, 5), (67, 40), (65, 44), (64, 40), (65, 40), (82, 44), (81, 40), (79, 40), (77, 40), (69, 40), (69, 1), (66, 44), (62, 40), (64, 40), (67, 40), (67, 1), (65, 44), (64, 1046), (65, 984), (70, 978), (67, 1018), (64, 984), (65, 70), (76, 49), (65, 40), (67, 494), (69, 486), (70, 469), (76, 17), (74, 40), (67, 40), (69, 44), (70, 40), (74, 40), (81, 44), (62, 27), (64, 40), (65, 40), (78, 44), (70, 40), (69, 40), (65, 40), (64, 40), (72, 44), (74, 1046), (75, 984), (62, 70), (74, 40), (62, 44), (64, 40), (65, 40), (78, 44), (70, 40), (69, 40), (65, 40), (64, 40), (72, 44), (74, 1046), (75, 984), (62, 70), (74, 40), (70, 44), (65, 44), (67, 40), (72, 40), (69, 40), (66, 44), (64, 1046), (60, 984), (62, 70), (77, 44), (76, 40), (72, 40), (74, 40), (69, 40), (69, 5), (67, 40), (65, 40), (64, 40), (66, 40), (67, 40), (79, 44), (72, 40), (70, 40), (62, 44), (64, 40), (66, 40), (62, 44), (62, 27), (64, 1046), (65, 984), (70, 70), (79, 44), (76, 40), (74, 40), (81, 44), (82, 40), (79, 40), (77, 44), (76, 40), (78, 40), (67, 44), (65, 1046), (64, 984), (67, 70), (65, 40), (65, 1), (68, 40), (79, 44), (77, 40), (76, 40), (74, 40), (66, 40), (67, 40), (64, 44), (62, 40), (66, 40), (64, 44), (62, 1046), (65, 70), (67, 1046), (70, 984), (65, 70), (77, 44), (74, 40), (72, 40), (70, 40), (74, 40), (79, 40), (81, 44), (79, 40), (77, 40), (76, 40), (74, 40), (76, 44), (81, 40), (79, 40), (81, 44), (79, 40), (77, 40), (76, 40), (69, 40), (67, 40), (65, 40), (64, 40), (60, 44), (64, 1046), (68, 984), (72, 70), (70, 40), (69, 40), (67, 40), (65, 40), (65, 5), (68, 1046), (70, 984), (67, 70), (66, 44), (69, 49), (70, 40), (72, 40), (74, 40), (73, 40), (69, 40), (78, 44), (77, 40), (81, 44), (82, 40), (79, 40), (84, 44), (82, 1046), (81, 984), (84, 68), (82, 39), (81, 40), (79, 40), (76, 40), (79, 40), (75, 44), (79, 44), (81, 40), (77, 40), (75, 41), (74, 40), (79, 44), (81, 40), (82, 40), (84, 44), (82, 40), (81, 40), (79, 40), (75, 40), (69, 44), (67, 40), (67, 5), (65, 40), (62, 44), (64, 40), (65, 40), (78, 44), (70, 40), (69, 40), (65, 40), (64, 40), (72, 44), (74, 1046), (75, 984), (62, 70), (74, 40), (62, 44), (64, 40), (65, 40), (78, 44), (70, 40), (69, 40), (65, 40), (64, 40), (72, 44), (74, 1046), (75, 984), (62, 70), (74, 40), (70, 44), (65, 44), (67, 40), (72, 40), (69, 40), (66, 44), (64, 1046), (60, 984), (62, 70), (77, 44), (76, 40), (72, 40), (74, 40), (69, 40), (69, 5), (67, 40), (65, 40), (64, 40), (66, 40), (67, 40), (79, 44), (72, 40), (70, 40), (62, 44), (64, 40), (66, 40), (62, 44), (62, 27), (64, 1046), (65, 984), (70, 70), (79, 44), (76, 40), (74, 40), (81, 44), (82, 40), (79, 40), (77, 44), (76, 40), (78, 40), (67, 44), (65, 1046), (64, 984), (67, 70), (65, 40), (65, 1), (68, 40), (79, 44), (77, 40), (76, 40), (74, 40), (66, 40), (67, 40), (64, 44), (62, 40), (66, 40), (64, 44), (62, 1046), (79, 70), (77, 40), (76, 40), (74, 40), (69, 40), (67, 40), (65, 44), (64, 40), (62, 40), (64, 40), (65, 40), (67, 44), (69, 40), (70, 40), (70, 5), (67, 40), (65, 44), (64, 40), (65, 40), (82, 44), (81, 40), (79, 40), (77, 40), (69, 40), (69, 1), (66, 44), (62, 40), (64, 40), (67, 40), (67, 1), (65, 44), (64, 1046), (65, 984), (70, 978), (67, 1018), (64, 984), (65, 70), (76, 49), (65, 40), (67, 494), (69, 486), (70, 469), (76, 17), (74, 40), (67, 40), (69, 44), (70, 40), (74, 40), (81, 44), (62, 27), (64, 40), (65, 40), (78, 44), (70, 40), (69, 40), (65, 40), (64, 40), (72, 44), (74, 1046), (75, 984), (62, 70), (74, 40), (62, 44), (64, 40), (65, 40), (78, 44), (70, 40), (69, 40), (65, 40), (64, 40), (72, 44), (74, 1046), (75, 984), (62, 70), (74, 40), (70, 44), (65, 44), (67, 40), (72, 40), (69, 40), (66, 44), (64, 1046), (60, 984), (62, 70), (77, 44), (76, 40), (72, 40), (74, 40), (69, 40), (69, 5), (67, 40), (65, 40), (64, 40), (66, 40), (67, 40), (79, 44), (72, 40), (70, 40), (62, 44), (64, 40), (66, 40), (62, 44), (62, 27), (64, 1046), (65, 984), (70, 70), (79, 44), (76, 40), (74, 40), (81, 44), (82, 40), (79, 40), (77, 44), (76, 40), (78, 40), (67, 44), (65, 1046), (64, 984), (67, 70), (65, 40), (65, 1), (68, 40), (79, 44), (77, 40), (76, 40), (74, 40), (66, 40), (67, 40), (64, 44), (62, 40), (66, 40), (64, 44), (62, 1046), (65, 70), (67, 1046), (70, 984), (65, 70), (77, 44), (74, 40), (72, 40), (70, 40), (74, 40), (79, 40), (81, 44), (79, 40), (77, 40), (76, 40), (74, 40), (76, 44), (81, 40), (79, 40), (81, 44), (79, 40), (77, 40), (76, 40), (69, 40), (67, 40), (65, 40), (64, 40), (60, 44), (64, 1046), (68, 984), (72, 70), (70, 40), (69, 40), (67, 40), (65, 40), (65, 5), (68, 1046), (70, 984), (67, 70), (66, 44), (69, 49), (70, 40), (72, 40), (74, 40), (73, 40), (69, 40), (78, 44), (77, 40), (81, 44), (82, 40), (79, 40), (84, 44), (82, 1046), (81, 984), (84, 68), (82, 39), (81, 40), (79, 40), (76, 40), (79, 40), (75, 44), (79, 44), (81, 40), (77, 40), (75, 41), (74, 40), (79, 44), (81, 40), (82, 40), (84, 44), (82, 40), (81, 40), (79, 40), (75, 40), (69, 44), (67, 40), (67, 5), (65, 40), (62, 44), (64, 40), (65, 40), (78, 44), (70, 40), (69, 40), (65, 40), (64, 40), (72, 44), (74, 1046), (75, 984), (62, 70), (74, 40), (62, 44), (64, 40), (65, 40), (78, 44), (70, 40), (69, 40), (65, 40), (64, 40), (72, 44), (74, 1046), (75, 984), (62, 70), (74, 40), (70, 44), (65, 44), (67, 40), (72, 40), (69, 40), (66, 44), (64, 1046), (60, 984), (62, 70), (77, 44), (76, 40), (72, 40), (74, 40), (69, 40), (69, 5), (67, 40), (65, 40), (64, 40), (66, 40), (67, 40), (79, 44), (72, 40), (70, 40), (62, 44), (64, 40), (66, 40), (62, 44), (62, 27), (64, 1046), (65, 984), (70, 70), (79, 44), (76, 40), (74, 40), (81, 44), (82, 40), (79, 40), (77, 44), (76, 40), (78, 40), (67, 44), (65, 1046), (64, 984), (67, 70), (65, 40), (65, 1), (68, 40), (79, 44), (77, 40), (76, 40), (74, 40), (66, 40), (67, 40), (64, 44), (62, 40), (66, 40), (64, 44), (62, 1046), (79, 70), (77, 40), (76, 40), (74, 40), (69, 40), (67, 40), (65, 44), (64, 40), (62, 40), (64, 40), (65, 40), (67, 44), (69, 40), (70, 40), (70, 5), (67, 40), (65, 44), (64, 40), (65, 40), (82, 44), (81, 40), (79, 40), (77, 40), (69, 40), (69, 1), (66, 44), (62, 40), (64, 40), (67, 40), (67, 1), (65, 44), (64, 1046), (65, 984), (70, 978), (67, 1018), (64, 984), (65, 70), (76, 49), (65, 40), (67, 494), (69, 486), (70, 469), (76, 17), (74, 40), (67, 40), (69, 44), (70, 40), (74, 40), (81, 44), (62, 27), (64, 40), (65, 40), (78, 44), (70, 40), (69, 40), (65, 40), (64, 40), (72, 44), (74, 1046), (75, 984), (62, 70), (74, 40), (62, 44), (64, 40), (65, 40), (78, 44), (70, 40), (69, 40), (65, 40), (64, 40), (72, 44), (74, 1046), (75, 984), (62, 70), (74, 40), (70, 44), (65, 44), (67, 40), (72, 40), (69, 40), (66, 44), (64, 1046), (60, 984), (62, 70), (77, 44), (76, 40), (72, 40), (74, 40), (69, 40), (69, 5), (67, 40), (65, 40), (64, 40), (66, 40), (67, 40), (79, 44), (72, 40), (70, 40), (62, 44), (64, 40), (66, 40), (62, 44), (62, 27), (64, 1046), (65, 984), (70, 70), (79, 44), (76, 40), (74, 40), (81, 44), (82, 40), (79, 40), (77, 44), (76, 40), (78, 40), (67, 44), (65, 1046), (64, 984), (67, 70), (65, 40), (65, 1), (68, 40), (79, 44), (77, 40), (76, 40), (74, 40), (66, 40), (67, 40), (64, 44), (62, 40), (66, 40), (64, 44), (62, 1046), (65, 70), (67, 1046), (70, 984), (65, 70), (77, 44), (74, 40), (72, 40), (70, 40), (74, 40), (79, 40), (81, 44), (79, 40), (77, 40), (76, 40), (74, 40), (76, 44), (81, 40), (79, 40), (81, 44), (79, 40), (77, 40), (76, 40), (69, 40), (67, 40), (65, 40), (64, 40), (60, 44), (64, 1046), (68, 984), (72, 70), (70, 40), (69, 40), (67, 40), (65, 40), (65, 5), (68, 1046), (70, 984), (67, 70), (66, 44), (69, 49), (70, 40), (72, 40), (74, 40), (73, 40), (69, 40), (78, 44), (77, 40), (81, 44), (82, 40), (79, 40), (84, 44), (82, 1046), (81, 984), (84, 68), (82, 39), (81, 40), (79, 40), (76, 40), (79, 40), (75, 44), (79, 44), (81, 40), (77, 40), (75, 41), (74, 40), (79, 44), (81, 40), (82, 40), (84, 44), (82, 40), (81, 40), (79, 40), (75, 40), (69, 44), (67, 40), (67, 5), (65, 40), (62, 44), (64, 40), (65, 40), (78, 44), (70, 40), (69, 40), (65, 40), (64, 40), (72, 44), (74, 1046), (75, 984), (62, 70), (74, 40), (62, 44), (64, 40), (65, 40), (78, 44), (70, 40), (69, 40), (65, 40), (64, 40), (72, 44), (74, 1046), (75, 984), (62, 70), (74, 40), (70, 44), (65, 44), (67, 40), (72, 40), (69, 40), (66, 44), (64, 1046), (60, 984), (62, 70), (77, 44), (76, 40), (72, 40), (74, 40), (69, 40), (69, 5), (67, 40), (65, 40), (64, 40), (66, 40), (67, 40), (79, 44), (72, 40), (70, 40), (62, 44), (64, 40), (66, 40), (62, 44), (62, 27), (64, 1046), (65, 984), (70, 70), (79, 44), (76, 40), (74, 40), (81, 44), (82, 40), (79, 40), (77, 44), (76, 40), (78, 40), (67, 44), (65, 1046), (64, 984), (67, 70), (65, 40), (65, 1), (68, 40), (79, 44), (77, 40), (76, 40), (74, 40), (66, 40), (67, 40), (64, 44), (62, 40), (66, 40), (64, 44), (62, 1046), (79, 70), (77, 40), (76, 40), (74, 40), (69, 40), (67, 40), (65, 44), (64, 40), (62, 40), (64, 40), (65, 40), (67, 44), (69, 40), (70, 40), (70, 5), (67, 40), (65, 44), (64, 40), (65, 40), (82, 44), (81, 40), (79, 40), (77, 40), (69, 40), (69, 1), (66, 44), (62, 40), (64, 40), (67, 40), (67, 1), (65, 44), (64, 1046), (65, 984), (70, 978), (67, 1018), (64, 984), (65, 70), (76, 49), (65, 40), (67, 494), (69, 486), (70, 469), (76, 17), (74, 40), (67, 40), (69, 44), (70, 40), (74, 40), (81, 44), (62, 27), (64, 40), (65, 40), (78, 44), (70, 40), (69, 40), (65, 40), (64, 40), (72, 44), (74, 1046), (75, 984), (62, 70), (74, 40), (62, 44), (64, 40), (65, 40), (78, 44), (70, 40), (69, 40), (65, 40), (64, 40), (72, 44), (74, 1046), (75, 984), (62, 70), (74, 40), (70, 44), (65, 44), (67, 40), (72, 40), (69, 40), (66, 44), (64, 1046), (60, 984), (62, 70), (77, 44), (76, 40), (72, 40), (74, 40), (69, 40), (69, 5), (67, 40), (65, 40), (64, 40), (66, 40), (67, 40), (79, 44), (72, 40), (70, 40), (62, 44), (64, 40)]\n",
      "5000\n"
     ]
    }
   ],
   "source": [
    "valid3 = Button(description='Show the output!')\n",
    "\n",
    "def show_output(_) :\n",
    "    print(nw.output_text)\n",
    "    print(len(nw.output_text))\n",
    "\n",
    "display(valid3)\n",
    "valid3.on_click(show_output)"
   ]
  },
  {
   "cell_type": "markdown",
   "metadata": {},
   "source": [
    "### Création du fichier midi prédit par le réseau de neurones"
   ]
  },
  {
   "cell_type": "code",
   "execution_count": 14,
   "metadata": {},
   "outputs": [],
   "source": [
    "def new_file():\n",
    "    mid=MidiFile()\n",
    "    track=MidiTrack()\n",
    "    mid.tracks.append(track)\n",
    "    #Permet de régler le tempo (temps que dure une noire)\n",
    "    track.append(MetaMessage('set_tempo', tempo = 1000000, time=0))\n",
    "    # l'argument program indique l'instrument que l'on souhaite \n",
    "    track.append(Message('program_change', program=73, time=0))\n",
    "    for n in nw.output_text:\n",
    "        track.append(Message('note_on',note=n[0],velocity=30,time=n[1]))\n",
    "        track.append(Message('note_off',note=n[0],velocity=30,time=n[1]))\n",
    "    mid.save('pred_alea.mid')"
   ]
  },
  {
   "cell_type": "code",
   "execution_count": 15,
   "metadata": {},
   "outputs": [],
   "source": [
    "new_file()"
   ]
  },
  {
   "cell_type": "markdown",
   "metadata": {},
   "source": [
    "### Graphiques"
   ]
  },
  {
   "cell_type": "markdown",
   "metadata": {},
   "source": [
    "Dans cette partie, nous générons quatre graphiques représentant les hauteurs et durées des 500 premières notes du fichier mis en entrée ainsi que les 500 premières notes du fichier généré en sortie :"
   ]
  },
  {
   "cell_type": "code",
   "execution_count": 17,
   "metadata": {},
   "outputs": [
    {
     "data": {
      "image/png": "[encoded data removed]",
      "text/plain": [
       "<Figure size 432x288 with 1 Axes>"
      ]
     },
     "metadata": {
      "needs_background": "light"
     },
     "output_type": "display_data"
    },
    {
     "data": {
      "image/png": "[encoded data removed]",
      "text/plain": [
       "<Figure size 432x288 with 1 Axes>"
      ]
     },
     "metadata": {
      "needs_background": "light"
     },
     "output_type": "display_data"
    },
    {
     "data": {
      "image/png": "[encoded data removed]",
      "text/plain": [
       "<Figure size 432x288 with 1 Axes>"
      ]
     },
     "metadata": {
      "needs_background": "light"
     },
     "output_type": "display_data"
    },
    {
     "data": {
      "image/png": "[encoded data removed]",
      "text/plain": [
       "<Figure size 432x288 with 1 Axes>"
      ]
     },
     "metadata": {
      "needs_background": "light"
     },
     "output_type": "display_data"
    }
   ],
   "source": [
    "tabnote=[]\n",
    "tabduree=[]\n",
    "\n",
    "tabnoteout=[]\n",
    "tabdureeout=[]\n",
    "\n",
    "for i in range (1,500):\n",
    "    tabnote.append(note[i])\n",
    "    tabduree.append(duree[i])\n",
    "\n",
    "plt.figure(1)\n",
    "plt.subplot(211)\n",
    "plt.plot(tabnote,'r')\n",
    "#plt.title(\"Evolution des hauteurs des notes (input)\")\n",
    "plt.figure(2)\n",
    "plt.subplot(212)\n",
    "plt.plot(tabduree,'b')\n",
    "#plt.title(\"Evolution des durées des notes (input)\")\n",
    "\n",
    "plt.show()\n",
    "\n",
    "#plot des sorties :\n",
    "i=0\n",
    "for n in nw.output_text:\n",
    "    if i<500:\n",
    "        tabnoteout.append(n[0])\n",
    "        i=i+1\n",
    "\n",
    "i=0\n",
    "for n in nw.output_text:\n",
    "    if i<500:\n",
    "        tabdureeout.append(n[1])\n",
    "        i=i+1\n",
    "\n",
    "plt.figure(3)\n",
    "plt.subplot(211)\n",
    "plt.plot(tabnoteout,'r')\n",
    "#plt.title(\"Evolution des hauteurs des notes (output)\")\n",
    "plt.figure(4)\n",
    "plt.subplot(212)\n",
    "plt.plot(tabdureeout,'b')\n",
    "#plt.title(\"Evolution des durées des notes (output)\")\n",
    "\n",
    "plt.show()\n"
   ]
  },
  {
   "cell_type": "markdown",
   "metadata": {},
   "source": [
    "Nos sorties correspondent bien à ce qui est prédit en entrée (cf. graphiques)"
   ]
  },
  {
   "cell_type": "markdown",
   "metadata": {},
   "source": [
    "### Quelques résultats précédemment obtenus"
   ]
  },
  {
   "cell_type": "markdown",
   "metadata": {},
   "source": [
    "Nous avons commencé le travail de prédiction et génération en fournissant en entrée un unique fichier (midi-classique-flute/[Free-scores.com]_ali-choobdar-night-the-lotus-66972.midi)_.\n",
    "\n",
    "Ceci nous a permis dans un premier temps de constater :\n",
    "<ul><li> qu'en mode génération, nous parvenions bien à générer des notes avec des hauteurs et durées cohérentes avec les données d'entrée. Néanmoins, en lançant le fichier généré sur le logiciel <i>Musescose</i>, nous avons constaté que les durées réelles des notes à la lecture étaient bien inférieures à celles du fichier d'entrée. Nous avons donc modifié le paramètre <i>tempo</i> à la création du nouveau fichier midi afin de pouvoir le lire à une vitesse appréciable.</li>\n",
    "    <li>qu'en mode prédiciton, nous ne générions au début une partition ne contenant presque qu'une seule note.</li>\n",
    "</ul>\n",
    "\n",
    "Voici un exemple obtenu de génération obtenu avec un apprentissage réalisé avec un unique fichier :\n",
    "<img src=\"input-1.png\"/>\n",
    "<img src=\"output-1.png\"/>\n",
    "\n",
    "Nous pouvons constater que la sortie comporte très clairement un schéma mélodique (encadré en bleu) du fichier d'entrée, il y a donc bien eu un apprentissage dans le réservoir de la corrélation entre certaines notes et les suivantes. En mode génération, la sortie est fournie en entrée pour la détermination de la prochaine note, un tel résultat est donc satisfaisant d'un point de vue de l'apprentissage ayant pu être effectué.\n",
    "\n",
    "En changeant les paramètres du réservoir, nous parvenons même à prédire la suite presqu'exacte du morceau. L'exemple en mode prédiction est présenté ci-dessous :\n",
    "<img src=\"input-2.png\"/>\n",
    "<img src=\"output-2.png\"/>\n",
    "\n",
    "Le schéma mélodique est répété avec un léger décalage, mais il est facile de reconnaître le morceau original avec lequel a été effectué l'apprentissage.\n",
    "\n",
    "\n",
    "Dans un second temps, nous avons cherché à réaliser le même travail de prédiction et génération avec l'ensemble des fichiers du corpus contenu dans le dossier <i>midi-classique-flute</i>.\n",
    "\n",
    "Il a était difficile d'en tirer un résultat probant. A notre grand étonnement, nous avons obtenu des fichiers comportant des accords alors même que les données d'entrée n'en contiennent aucun. Pourtant, en affichant le tableau des données générées, il ne semblait pas y en avoir.\n",
    "\n",
    "Un résultat de prédiction avec l'ensemble des fichiers nous a notamment surprit, avec les paramètres :\n",
    "resSize = 100\n",
    "initLen = 50\n",
    "trainLen = 826\n",
    "testLen = 1026\n",
    "spectral radius = 1.15\n",
    "leak rate = 0.30\n",
    "\n",
    "Nous avons obtenu un fichier comportant une unique portée, avec trois accords, alors même que notre tableau de données de sortie comportait plusieurs centaines de notes (et <i>a priori</i> pas d'accords) :\n",
    "<img src=\"generation-etrange.png\"/>\n",
    "\n",
    "En essayant de comprendre pourquoi, nous avons constaté que beaucoup de notes que nous générions avaient une durée nulle. C'est en remontant dans les fichiers des données fournies pour l'entraînement que nous avons constaté que certains fichiers étaient les partitions de flûte qui n'étaient pas la première flûte du morceau, et qui comportaient donc énormément de pauses. Nous ne sommes cependant pas allées plus loin et n'avons pas expliqué la présence des accords.\n"
   ]
  },
  {
   "cell_type": "markdown",
   "metadata": {},
   "source": [
    "## Applications possibles"
   ]
  },
  {
   "cell_type": "markdown",
   "metadata": {},
   "source": [
    "Pour conclure sur ce projet, nous pourrions envisager d'imaginer des exemples d'applications à ce projet :\n",
    "<ul><li> création de musiques libres de droit </li>\n",
    "    <li> création de musique auto-générées dans un style spécifique pour des publicités </li>\n",
    "    <li> création de musique d'ambiance </li>\n",
    "    <li> aide pour des artistes en manque d'inspiration </li>\n",
    "</ul>\n",
    "\n",
    "Il est a noté que ce type de génération est très proche de la génération de texte, qui apporte elle-même beaucoup d'applications possibles."
   ]
  }
 ],
 "metadata": {
  "kernelspec": {
   "display_name": "Python 2",
   "language": "python",
   "name": "python2"
  },
  "language_info": {
   "codemirror_mode": {
    "name": "ipython",
    "version": 3
   },
   "file_extension": ".py",
   "mimetype": "text/x-python",
   "name": "python",
   "nbconvert_exporter": "python",
   "pygments_lexer": "ipython3",
   "version": "3.6.7"
  }
 },
 "nbformat": 4,
 "nbformat_minor": 2
}
